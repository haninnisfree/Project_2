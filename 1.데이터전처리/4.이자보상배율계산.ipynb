{
 "cells": [
  {
   "cell_type": "code",
   "execution_count": 1,
   "metadata": {},
   "outputs": [],
   "source": [
    "import pandas as pd\n",
    "import numpy as np\n",
    "\n",
    "df = pd.read_csv(\"../data/3. 증가율 데이터 정리끝.csv\", encoding='cp949') \n",
    "df_data = pd.read_csv(\"../data/4. 이자보상배율 데이터.csv\", encoding = 'cp949')"
   ]
  },
  {
   "cell_type": "code",
   "execution_count": 2,
   "metadata": {},
   "outputs": [],
   "source": [
    "# 공백 제거\n",
    "df_data.columns = df_data.columns.str.replace(\"   \",\"\")\n",
    "\n",
    "# 이자보상배율 계산을 위한 데이터 준비 : 연결+개별로 값 채우기\n",
    "df_data[\"[제조]* (정상)영업손익(보고서기재)(IFRS연결)\"] = df_data[\"[제조]* (정상)영업손익(보고서기재)(IFRS연결)\"].fillna(df_data[\"[제조]* (정상)영업손익(보고서기재)(IFRS)\"])  \n",
    "df_data[\"[제조]이자비용(IFRS연결)\"] = df_data[\"[제조]이자비용(IFRS연결)\"].fillna(df_data[\"[제조]이자비용(IFRS)\"])  \n",
    "\n",
    "# 이자보상배율 계산\n",
    "df_data[\"이자보상배율\"] = round(df_data[\"[제조]* (정상)영업손익(보고서기재)(IFRS연결)\"]/df_data[\"[제조]이자비용(IFRS연결)\"],2)"
   ]
  },
  {
   "cell_type": "markdown",
   "metadata": {},
   "source": [
    "# 데이터 분리하기\n",
    "1. `df_mod_0`: \"상장폐지일\" 열이 없는 데이터를 선택한 하위 데이터프레임입니다.\n",
    "\n",
    "2. `df_mod_0_0`: `df_mod_0`에서 \"이자보상배율\" 열이 결측치, 양의 무한대, 음의 무한대를 포함하지 않는 데이터를 선택한 하위 데이터프레임입니다.\n",
    "\n",
    "3. `df_mod_1`: \"상장폐지일\" 열이 있는 데이터를 선택한 하위 데이터프레임입니다.\n",
    "\n",
    "4. `df_mod_1_1`: `df_mod_1`에서 \"이자보상배율\" 열이 결측치, 양의 무한대, 음의 무한대를 포함하지 않는 데이터를 선택한 하위 데이터프레임입니다."
   ]
  },
  {
   "cell_type": "code",
   "execution_count": 3,
   "metadata": {},
   "outputs": [],
   "source": [
    "# 계산된 이자보상배율 데이터로 새로운 데이터프레임 만들기\n",
    "df_data_mod = df_data[[\"회사명\",\"거래소코드\",\"회계년도\",\"이자보상배율\"]]\n",
    "\n",
    "# 무한대 값 확인\n",
    "df_data_mod[df_data_mod[\"이자보상배율\"]==-np.inf]\n",
    "\n",
    "# 회계년도를 기준으로 데이터 프레임 합치기\n",
    "df_data[\"회계년도\"]= pd.to_datetime(df_data[\"회계년도\"],format='%Y/%m')\n",
    "df[\"회계년도\"]= pd.to_datetime(df[\"회계년도\"])\n",
    "merged_data = pd.merge(df,df_data, how='left',on=[\"회사명\",\"거래소코드\",\"회계년도\"])\n",
    "\n",
    "# 필요한 열만 선택\n",
    "df_mod = merged_data[['회사명', '거래소코드', '회계년도', '상장일', '상장폐지일', '소속코드','이자보상배율','이자보상배율이자비용']]\n",
    "\n",
    "# \"상장폐지일\"이 없는 데이터를 선택하여 df_mod_0에 저장\n",
    "df_mod_0 = df_mod[df_mod[\"상장폐지일\"].isnull()]\n",
    "\n",
    "# df_mod_0에서 \"이자보상배율\" 열이 결측치, 양의 무한대, 음의 무한대를 포함하는 데이터 필터링\n",
    "# (실제로 데이터프레임을 수정하지는 않음)\n",
    "df_mod_0[df_mod_0[\"이자보상배율\"].isin([np.NaN, np.inf, -np.inf])]\n",
    "\n",
    "# df_mod_0에서 \"이자보상배율\" 열이 결측치, 양의 무한대, 음의 무한대를 포함하지 않는 데이터를 선택하여 df_mod_0_0에 저장\n",
    "df_mod_0_0 = df_mod_0[~df_mod_0[\"이자보상배율\"].isin([np.NaN, np.inf, -np.inf])]\n",
    "\n",
    "# \"상장폐지일\"이 없고 \"이자보상배율\" 열이 결측치, 양의 무한대, 음의 무한대를 포함하지 않는 데이터의 \"이자보상배율\" 열을 출력\n",
    "df_mod[df_mod[\"상장폐지일\"].isnull()][df_mod_0[\"상장폐지일\"].isnull()][\"이자보상배율\"]\n",
    "\n",
    "# \"상장폐지일\"이 있는 데이터를 선택하여 df_mod_1에 저장\n",
    "df_mod_1 = df_mod[~df_mod[\"상장폐지일\"].isnull()]\n",
    "\n",
    "# df_mod_1에서 \"이자보상배율\" 열이 결측치, 양의 무한대, 음의 무한대를 포함하는 데이터 필터링\n",
    "# (실제로 데이터프레임을 수정하지는 않음)\n",
    "df_mod_1[df_mod_1[\"이자보상배율\"].isin([np.NaN, np.inf, -np.inf])]\n",
    "\n",
    "# df_mod_1에서 \"이자보상배율\" 열이 결측치, 양의 무한대, 음의 무한대를 포함하지 않는 데이터를 선택하여 df_mod_1_1에 저장\n",
    "df_mod_1_1 = df_mod_1[~df_mod_1[\"이자보상배율\"].isin([np.NaN, np.inf, -np.inf])]\n",
    "\n",
    "# df_mod[~df_mod[\"상장폐지일\"].isnull()][\"이자보상배율\"]"
   ]
  },
  {
   "cell_type": "markdown",
   "metadata": {},
   "source": [
    "\n",
    "# 이자보상배율 값 처리\n",
    "1. \"이자보상배율\"이 양의 무한대(`np.inf`)이고 \"상장폐지일\"이 없으면, \"이자보상배율\"을 해당 열에서 가장 큰 값으로 설정합니다.\n",
    "\n",
    "2. \"이자보상배율\"이 음의 무한대(`-np.inf`)이고 \"상장폐지일\"이 없으면, \"이자보상배율\"을 해당 열에서 가장 작은 값으로 설정합니다.\n",
    "\n",
    "3. \"이자보상배율\"이 결측치이고 \"상장폐지일\"이 없으면, \"이자보상배율\"을 해당 열에서 값들의 평균으로 설정합니다.\n",
    "\n",
    "4. \"이자보상배율\"이 양의 무한대(`np.inf`)이고 \"상장폐지일\"이 있으면, \"이자보상배율\"을 다른 데이터에서 가장 큰 값으로 설정합니다.\n",
    "\n",
    "5. \"이자보상배율\"이 음의 무한대(`-np.inf`)이고 \"상장폐지일\"이 있으면, \"이자보상배율\"을 다른 데이터에서 가장 작은 값으로 설정합니다.\n",
    "\n",
    "6. \"이자보상배율\"이 결측치이고 \"상장폐지일\"이 있으면, \"이자보상배율\"을 다른 데이터에서 값들의 평균으로 설정합니다.\n",
    "\n",
    "이러한 조정 작업을 마치고 나면 \"이자보상배율이자비용\" 열에 보정된 값을 할당합니다. 이로써 데이터의 누락된 부분을 최대, 최소 또는 평균값으로 채우게 됩니다."
   ]
  },
  {
   "cell_type": "code",
   "execution_count": 4,
   "metadata": {},
   "outputs": [],
   "source": [
    "\n",
    "for i in df_mod.index:\n",
    "    if df_mod.loc[i,\"이자보상배율\"] == np.inf and df_mod.loc[i,\"상장폐지일\"] ==np.NaN:\n",
    "        df_mod.loc[i,\"이자보상배율\"] = df_mod_0_0[\"이자보상배율\"].max()\n",
    "\n",
    "    elif df_mod.loc[i,\"이자보상배율\"] == -np.inf and df_mod.loc[i,\"상장폐지일\"] ==np.NaN:\n",
    "        df_mod.loc[i,\"이자보상배율\"] = df_mod_0_0[\"이자보상배율\"].min()\n",
    "\n",
    "    elif df_mod.loc[i,\"이자보상배율\"] == np.NaN and df_mod.loc[i,\"상장폐지일\"] ==np.NaN:\n",
    "        df_mod.loc[i,\"이자보상배율\"] = df_mod_0_0[\"이자보상배율\"].mean()\n",
    "\n",
    "    elif df_mod.loc[i,\"이자보상배율\"] == np.inf and df_mod.loc[i,\"상장폐지일\"] !=np.NaN:\n",
    "        df_mod.loc[i,\"이자보상배율\"] = df_mod_1_1[\"이자보상배율\"].max()\n",
    "\n",
    "    elif df_mod.loc[i,\"이자보상배율\"] == -np.inf and df_mod.loc[i,\"상장폐지일\"] !=np.NaN:\n",
    "        df_mod.loc[i,\"이자보상배율\"] = df_mod_1_1[\"이자보상배율\"].min()\n",
    "\n",
    "    elif df_mod.loc[i,\"이자보상배율\"] == np.NaN and df_mod.loc[i,\"상장폐지일\"] !=np.NaN:\n",
    "        df_mod.loc[i,\"이자보상배율\"] = df_mod_1_1[\"이자보상배율\"].mean()\n",
    "\n",
    "df[\"이자보상배율이자비용\"] = df_mod[\"이자보상배율\"]"
   ]
  },
  {
   "cell_type": "code",
   "execution_count": 5,
   "metadata": {},
   "outputs": [
    {
     "data": {
      "text/html": [
       "<div>\n",
       "<style scoped>\n",
       "    .dataframe tbody tr th:only-of-type {\n",
       "        vertical-align: middle;\n",
       "    }\n",
       "\n",
       "    .dataframe tbody tr th {\n",
       "        vertical-align: top;\n",
       "    }\n",
       "\n",
       "    .dataframe thead th {\n",
       "        text-align: right;\n",
       "    }\n",
       "</style>\n",
       "<table border=\"1\" class=\"dataframe\">\n",
       "  <thead>\n",
       "    <tr style=\"text-align: right;\">\n",
       "      <th></th>\n",
       "      <th>회사명</th>\n",
       "      <th>거래소코드</th>\n",
       "      <th>회계년도</th>\n",
       "      <th>상장일</th>\n",
       "      <th>상장폐지일</th>\n",
       "      <th>소속코드</th>\n",
       "      <th>산업명</th>\n",
       "      <th>매출액증가율</th>\n",
       "      <th>유형자산증가율</th>\n",
       "      <th>재고자산증가율</th>\n",
       "      <th>...</th>\n",
       "      <th>유동자산회전률</th>\n",
       "      <th>당좌자산회전률</th>\n",
       "      <th>부가가치</th>\n",
       "      <th>총자본투자효율</th>\n",
       "      <th>설비투자효율</th>\n",
       "      <th>기계투자효율</th>\n",
       "      <th>부가가치율</th>\n",
       "      <th>노동소득분배율</th>\n",
       "      <th>자본분배율</th>\n",
       "      <th>이윤분배율</th>\n",
       "    </tr>\n",
       "  </thead>\n",
       "  <tbody>\n",
       "  </tbody>\n",
       "</table>\n",
       "<p>0 rows × 55 columns</p>\n",
       "</div>"
      ],
      "text/plain": [
       "Empty DataFrame\n",
       "Columns: [회사명, 거래소코드, 회계년도, 상장일, 상장폐지일, 소속코드, 산업명, 매출액증가율, 유형자산증가율, 재고자산증가율, 비유동자산증가율, 유동자산증가율, 자기자본증가율, 총자본증가율, 순이익증가율, 매출액총이익률, 매출액순이익률, 자기자본순이익률, 총자본사업이익률, 총자본순이익률, 1주당매출액, 1주당순이익, 유동비율, 당좌비율, 현금비율, 순운전자본비율, 부채비율, 이자보상배율이자비용, 비유동비율, 유동자산구성비율, 자기자본구성비율, 자기자본배율, 총자본회전률, 자기자본회전률, 비유동자산회전률, 재고자산회전률, 매출채권회전률, 매입채무회전률, 매입채무회전기간, 재고자산회전기간, 매출채권회전기간, 1회전기간, 운전자본회전률, 순운전자본회전률, 유형자산회전율, 유동자산회전률, 당좌자산회전률, 부가가치, 총자본투자효율, 설비투자효율, 기계투자효율, 부가가치율, 노동소득분배율, 자본분배율, 이윤분배율]\n",
       "Index: []\n",
       "\n",
       "[0 rows x 55 columns]"
      ]
     },
     "execution_count": 5,
     "metadata": {},
     "output_type": "execute_result"
    }
   ],
   "source": [
    "df[df[\"이자보상배율이자비용\"].isin([np.NaN,np.inf,-np.inf])]"
   ]
  },
  {
   "cell_type": "code",
   "execution_count": 6,
   "metadata": {},
   "outputs": [],
   "source": [
    "df.to_csv(\"../data/5. 이자보상배율 완료.csv\",encoding='cp949',index=False)"
   ]
  },
  {
   "cell_type": "code",
   "execution_count": 7,
   "metadata": {},
   "outputs": [
    {
     "name": "stdout",
     "output_type": "stream",
     "text": [
      "총기업수 : 1399\n",
      "정상기업(중복미포함) : 1171\n",
      "상장폐지 기업 : 171\n"
     ]
    }
   ],
   "source": [
    "print('총기업수 :',len(df[\"회사명\"].unique()))\n",
    "print('정상기업(중복미포함) :',len(df[df[\"소속코드\"]==5][\"회사명\"].unique()))\n",
    "print('상장폐지 기업 :',len(df[df[\"소속코드\"]==4][\"회사명\"].unique()))"
   ]
  },
  {
   "cell_type": "code",
   "execution_count": null,
   "metadata": {},
   "outputs": [],
   "source": []
  }
 ],
 "metadata": {
  "kernelspec": {
   "display_name": "Python 3",
   "language": "python",
   "name": "python3"
  },
  "language_info": {
   "codemirror_mode": {
    "name": "ipython",
    "version": 3
   },
   "file_extension": ".py",
   "mimetype": "text/x-python",
   "name": "python",
   "nbconvert_exporter": "python",
   "pygments_lexer": "ipython3",
   "version": "3.11.6"
  }
 },
 "nbformat": 4,
 "nbformat_minor": 2
}
