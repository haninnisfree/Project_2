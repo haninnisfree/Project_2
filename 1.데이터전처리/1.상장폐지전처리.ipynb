{
 "cells": [
  {
   "cell_type": "markdown",
   "metadata": {},
   "source": [
    "## 데이터 전처리 : 재무제표 데이터 가공\n",
    "* 재무적 부실이 아닌 다른 이유로 상장이 폐지된 기업들은 분석 대상에서 배제된다. 이러한 기업들은 부실기업이나 정상기업의 범주에 속하지 않으므로, 데이터 분석에 포함시키지 않는다.\n",
    "* 상장폐지 기업 중 재무건전성 문제가 아닌 다른 사유로 상장이 폐지되는 경우\n",
    " - 합병,회사의 해산,주식 유통량 부족,코넥스로의 이전,자발적 상장 철회\n",
    "\n",
    "#### 전처리 과정\n",
    "1. **CSV 파일 읽기:** 두 개의 CSV 파일을 'cp949' 인코딩으로 읽어들임.\n",
    "\n",
    "2. **상장폐지 데이터 추출 및 병합:** 상장폐지일이 있는 데이터를 추출하고, 상장폐지 사유 데이터와 병합.\n",
    "\n",
    "3. **불필요한 데이터 제거:** '코넥스', '합병' 사유 데이터와 2011년 이전 데이터, 비 12월 회계년도 데이터, 특정 거래소코드를 가진 데이터 제거.\n",
    "\n",
    "4. **날짜 데이터 변환 및 필터링:** 날짜 관련 열을 datetime 형식으로 변환하고, 필요한 날짜 조건에 맞는 데이터만 유지.\n",
    "\n",
    "5. **최종 데이터 저장:** 처리된 데이터를 새로운 CSV 파일로 저장."
   ]
  },
  {
   "cell_type": "code",
   "execution_count": 1,
   "metadata": {},
   "outputs": [],
   "source": [
    "import pandas as pd\n",
    "import numpy as np\n",
    "\n",
    "연결 = pd.read_csv(\"../data/0. 연결재무제표.csv\", encoding='cp949')\n",
    "개별 = pd.read_csv(\"../data/1. 코스닥 기업 개별재무제표.csv\", encoding='cp949')\n",
    "\n",
    "# 상장폐지 종목 데이터 추출\n",
    "df_default =연결[~연결[\"상장폐지일\"].isnull()]\n",
    "\n",
    "# 2022년도 상장폐지 데이터 보존\n",
    "indexes_2022_delisting = df_default[df_default[\"상장폐지일\"].str.contains('2022')].index\n",
    "for i in indexes_2022_delisting:\n",
    "   df_default.loc[i, \"상장폐지일\"]= np.NaN\n",
    "   df_default.loc[i, \"소속코드\"]=5"
   ]
  },
  {
   "cell_type": "code",
   "execution_count": 2,
   "metadata": {},
   "outputs": [],
   "source": [
    "# 상장폐시 사유 데이터\n",
    "df_default_mod = pd.read_csv(\"../data/1. 상장폐지종목_사유등록.csv\",encoding='cp949',index_col=0)\n",
    "df = pd.concat([연결,df_default_mod[\"상장폐지사유\"]],axis=1)"
   ]
  },
  {
   "cell_type": "markdown",
   "metadata": {},
   "source": [
    "상장폐지 사유 전처리"
   ]
  },
  {
   "cell_type": "code",
   "execution_count": 3,
   "metadata": {},
   "outputs": [],
   "source": [
    "# 코넥스 데이터 삭제\n",
    "drop_index = df[df[\"상장폐지사유\"].str.contains('코넥스') == 1][\"상장폐지사유\"].index\n",
    "df.drop(drop_index, inplace=True)"
   ]
  },
  {
   "cell_type": "code",
   "execution_count": 4,
   "metadata": {},
   "outputs": [],
   "source": [
    "# 피흡수 합병 데이터 삭제\n",
    "drop_index_2 = df[df[\"상장폐지사유\"].str.contains('합병') == 1][\"상장폐지사유\"].index\n",
    "df.drop(drop_index_2, inplace=True)"
   ]
  },
  {
   "cell_type": "code",
   "execution_count": 5,
   "metadata": {},
   "outputs": [],
   "source": [
    "# 정상데이터 소속코드 수정\n",
    "mod_index = df[~(df[\"상장폐지사유\"].isnull())][\"소속코드\"].index\n",
    "\n",
    "for i in mod_index:\n",
    "    df.loc[i, \"소속코드\"]=5"
   ]
  },
  {
   "cell_type": "code",
   "execution_count": 6,
   "metadata": {},
   "outputs": [
    {
     "data": {
      "text/plain": [
       "Index([3464], dtype='int64')"
      ]
     },
     "execution_count": 6,
     "metadata": {},
     "output_type": "execute_result"
    }
   ],
   "source": [
    "# 상장폐지년도가 2011년 이전 데이터 삭제\n",
    "# 날짜데이터 datetime화\n",
    "df[\"상장일\"]=pd.to_datetime(df['상장일'])\n",
    "df[\"상장폐지일\"]=pd.to_datetime(df['상장폐지일'])\n",
    "df[\"회계년도\"] = pd.to_datetime(df[\"회계년도\"], format='%Y/%m')\n",
    "\n",
    "# 상장폐지년도 2011년도 이전 데이터 삭제\n",
    "df[df[\"상장폐지일\"].dt.year <  2011].index"
   ]
  },
  {
   "cell_type": "code",
   "execution_count": 7,
   "metadata": {},
   "outputs": [],
   "source": [
    "# 회계년도 12월이 아닌 행 삭제\n",
    "df[\"회계월\"]=df[\"회계년도\"].dt.month\n",
    "ind =df[~(df[\"회계월\"]==12)].index"
   ]
  },
  {
   "cell_type": "code",
   "execution_count": 8,
   "metadata": {},
   "outputs": [],
   "source": [
    "# 외국계 기업 삭제\n",
    "df.drop(ind,inplace=True)\n",
    "drop = df[df[\"거래소코드\"] > 900000].index\n",
    "df.drop(drop, inplace=True)\n",
    "df.reset_index(drop='index',inplace=True)"
   ]
  },
  {
   "cell_type": "code",
   "execution_count": 9,
   "metadata": {},
   "outputs": [],
   "source": [
    "# 상장 전 데이터 삭제\n",
    "df[\"상장년도\"]  = df[\"상장일\"].dt.year\n",
    "df[\"회계년\"]  = df[\"회계년도\"].dt.year\n",
    "df[\"연차\"] = df[\"회계년\"] - df[\"상장년도\"] \n",
    "index_a = df[df[\"연차\"]<=0].index\n",
    "df.drop(index_a,inplace=True)"
   ]
  },
  {
   "cell_type": "code",
   "execution_count": 10,
   "metadata": {},
   "outputs": [
    {
     "name": "stdout",
     "output_type": "stream",
     "text": [
      "(주)원익피앤이\n",
      "소프트캠프(주)\n",
      "원텍(주)\n"
     ]
    }
   ],
   "source": [
    "# 거래소코드 중복 제거\n",
    "b = df[[\"회사명\",\"거래소코드\"]]\n",
    "d = b.groupby(\"회사명\")[\"거래소코드\"].unique()\n",
    "d = pd.DataFrame(d)\n",
    "\n",
    "for i in d.index:\n",
    "    if len(d.loc[i,\"거래소코드\"])== 2:\n",
    "        print(i)\n",
    "\n",
    "# (주)원익피앤이 거래소코드 131390 소프트캠프(주) 210610 원텍(주) 216280 제거\n",
    "index_b = df[df[\"거래소코드\"]== 131390].index\n",
    "df.drop(index_b,inplace=True)\n",
    "index_b = df[df[\"거래소코드\"]== 210610].index\n",
    "df.drop(index_b,inplace=True)\n",
    "index_b = df[df[\"거래소코드\"]== 216280 ].index\n",
    "df.drop(index_b,inplace=True)\n",
    "\n",
    "df.reset_index(drop='index',inplace=True)"
   ]
  },
  {
   "cell_type": "code",
   "execution_count": 11,
   "metadata": {},
   "outputs": [],
   "source": [
    "df.to_csv('../data/1. 상장폐지종목 정리끝.csv')"
   ]
  },
  {
   "cell_type": "code",
   "execution_count": 12,
   "metadata": {},
   "outputs": [
    {
     "name": "stdout",
     "output_type": "stream",
     "text": [
      "데이터 총 기업수 : 1451\n",
      "상장폐지 기업수(중복포함): 860\n",
      "상장폐지 기업수(중복미포함): 189\n"
     ]
    }
   ],
   "source": [
    "# 아직 뒤에 전처리 해야할 거 많음.\n",
    "print('데이터 총 기업수 :',len(df[\"회사명\"].unique()))\n",
    "print('상장폐지 기업수(중복포함):',len(df[~df[\"상장폐지일\"].isnull()][\"회사명\"]))\n",
    "print('상장폐지 기업수(중복미포함):',len(df[~df[\"상장폐지일\"].isnull()][\"회사명\"].unique()))"
   ]
  },
  {
   "cell_type": "code",
   "execution_count": null,
   "metadata": {},
   "outputs": [],
   "source": []
  }
 ],
 "metadata": {
  "kernelspec": {
   "display_name": "Python 3",
   "language": "python",
   "name": "python3"
  },
  "language_info": {
   "codemirror_mode": {
    "name": "ipython",
    "version": 3
   },
   "file_extension": ".py",
   "mimetype": "text/x-python",
   "name": "python",
   "nbconvert_exporter": "python",
   "pygments_lexer": "ipython3",
   "version": "3.11.6"
  }
 },
 "nbformat": 4,
 "nbformat_minor": 2
}
