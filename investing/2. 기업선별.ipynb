{
 "cells": [
  {
   "cell_type": "code",
   "execution_count": 3,
   "metadata": {},
   "outputs": [],
   "source": [
    "import numpy as np\n",
    "import pandas as pd \n",
    "import matplotlib.pyplot as plt\n",
    "plt.rcParams['font.family'] = 'Malgun Gothic'\n",
    "plt.rcParams['axes.unicode_minus'] = False\n",
    "import warnings\n",
    "warnings.filterwarnings(action='ignore') "
   ]
  },
  {
   "cell_type": "code",
   "execution_count": 14,
   "metadata": {},
   "outputs": [],
   "source": [
    "backtest_all=pd.read_csv(\"./data/1. 코스닥 데이터.csv\",encoding='cp949',index_col=0)\n",
    "backtest_all=pd.read_csv(\"./data/1. 일일 주식 데이터.csv\",encoding='cp949',index_col=0)\n",
    "data = pd.read_csv(\"../data/예측 label 완료.csv\",index_col=0)\n",
    "data = data.drop('Unnamed: 0',axis = 1)"
   ]
  },
  {
   "cell_type": "code",
   "execution_count": 18,
   "metadata": {},
   "outputs": [],
   "source": [
    "# '회계년도' 컬럼에서 '2011'과 '2012'에 해당하는 데이터 필터링\n",
    "filtered_data = data[data['회계년도'].isin(['2013-12-01', '2014-12-01','2015-12-01', '2016-12-01', '2017-12-01'])]\n",
    "\n",
    "for i in data.index:\n",
    "    data.loc[i, \"거래소코드\"] = str(data.loc[i, \"거래소코드\"]).zfill(6)"
   ]
  },
  {
   "cell_type": "code",
   "execution_count": 19,
   "metadata": {},
   "outputs": [],
   "source": [
    "from pykrx import stock\n",
    "from pykrx import bond"
   ]
  },
  {
   "cell_type": "code",
   "execution_count": null,
   "metadata": {},
   "outputs": [],
   "source": []
  }
 ],
 "metadata": {
  "kernelspec": {
   "display_name": "Python 3",
   "language": "python",
   "name": "python3"
  },
  "language_info": {
   "codemirror_mode": {
    "name": "ipython",
    "version": 3
   },
   "file_extension": ".py",
   "mimetype": "text/x-python",
   "name": "python",
   "nbconvert_exporter": "python",
   "pygments_lexer": "ipython3",
   "version": "3.11.6"
  }
 },
 "nbformat": 4,
 "nbformat_minor": 2
}
