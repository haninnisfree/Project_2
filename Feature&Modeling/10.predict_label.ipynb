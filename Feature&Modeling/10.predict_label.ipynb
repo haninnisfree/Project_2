{
 "cells": [
  {
   "cell_type": "code",
   "execution_count": 2,
   "metadata": {},
   "outputs": [],
   "source": [
    "# 필요 라이브러리 import \n",
    "import pandas as pd\n",
    "import numpy as np\n",
    "from sklearn.preprocessing import MinMaxScaler\n",
    "import matplotlib.pyplot as plt\n",
    "%matplotlib inline\n",
    "import warnings\n",
    "warnings.filterwarnings(action='ignore')\n",
    "\n",
    "from imblearn.under_sampling import RandomUnderSampler\n",
    "from imblearn.over_sampling import RandomOverSampler\n",
    "from imblearn.over_sampling import SMOTE\n",
    "\n",
    "from sklearn.datasets import make_classification\n",
    "from collections import Counter\n",
    "\n",
    "from matplotlib import pyplot as plt\n",
    "import seaborn as sns"
   ]
  },
  {
   "cell_type": "code",
   "execution_count": 3,
   "metadata": {},
   "outputs": [],
   "source": [
    "train= pd.read_csv(\"../data/6. train.csv\",index_col=0)\n",
    "test1= pd.read_csv(\"../data/6. test1.csv\",index_col=0)\n",
    "test2= pd.read_csv(\"../data/6. test2.csv\",index_col=0)"
   ]
  },
  {
   "cell_type": "code",
   "execution_count": 4,
   "metadata": {},
   "outputs": [
    {
     "name": "stdout",
     "output_type": "stream",
     "text": [
      "label\n",
      "0.0    1248\n",
      "1.0      72\n",
      "Name: count, dtype: int64\n",
      "label\n",
      "0.0    3743\n",
      "1.0      80\n",
      "Name: count, dtype: int64\n",
      "label\n",
      "0.0    1911\n",
      "1.0      98\n",
      "Name: count, dtype: int64\n"
     ]
    }
   ],
   "source": [
    "train_std = pd.read_csv(\"../data/8-1 train(std).csv\",index_col=0)\n",
    "test1_std = pd.read_csv(\"../data/8-1 test1(std).csv\",index_col=0)\n",
    "test2_std = pd.read_csv(\"../data/8-1 test2(std).csv\",index_col=0)\n",
    "\n",
    "print(train_std['label'].value_counts())\n",
    "print(test1_std['label'].value_counts())\n",
    "print(test2_std['label'].value_counts())"
   ]
  },
  {
   "cell_type": "markdown",
   "metadata": {},
   "source": [
    "test1 예측 라벨 부여"
   ]
  },
  {
   "cell_type": "code",
   "execution_count": 5,
   "metadata": {},
   "outputs": [
    {
     "name": "stdout",
     "output_type": "stream",
     "text": [
      "(2496, 10)\n"
     ]
    },
    {
     "data": {
      "text/plain": [
       "label\n",
       "0.0    1248\n",
       "1.0    1248\n",
       "Name: count, dtype: int64"
      ]
     },
     "execution_count": 5,
     "metadata": {},
     "output_type": "execute_result"
    }
   ],
   "source": [
    "x_train= train_std.drop(\"label\",axis=1)\n",
    "y_train = train_std[\"label\"]\n",
    "x_test =test1_std.drop(\"label\",axis=1)\n",
    "y_test = test1_std[\"label\"]\n",
    "\n",
    "# 오버샘플링 SMOTE\n",
    "x_train, y_train = SMOTE(random_state=4).fit_resample(x_train,y_train)\n",
    "print(x_train.shape)\n",
    "y_train.value_counts()"
   ]
  },
  {
   "cell_type": "code",
   "execution_count": 6,
   "metadata": {},
   "outputs": [
    {
     "data": {
      "text/plain": [
       "1795"
      ]
     },
     "execution_count": 6,
     "metadata": {},
     "output_type": "execute_result"
    }
   ],
   "source": [
    "# xgb 구현\n",
    "from xgboost import XGBClassifier\n",
    "\n",
    "xgb = XGBClassifier(random_state=17,\n",
    "                    n_estimators=90,\n",
    "                    max_depth=5,\n",
    "                    learning_rate=0.03,\n",
    "                    reg_lambda=2,\n",
    "                    reg_alpha=0.02,\n",
    "                    min_split_loss=2\n",
    "                    )\n",
    "\n",
    "threshold = 0.1\n",
    "xgb.fit(x_train, y_train)\n",
    "xgb_pred = xgb.predict(x_test)\n",
    "xgb_pred_proba = xgb.predict_proba(x_test)\n",
    "\n",
    "# 임계값 적용하여 이진 분류 예측 : predict 값 넣기\n",
    "rf_pred_custom_threshold = (xgb_pred_proba[:, 1] > threshold).astype(int)\n",
    "\n",
    "rf_pred_custom_threshold.sum()"
   ]
  },
  {
   "cell_type": "code",
   "execution_count": 7,
   "metadata": {},
   "outputs": [],
   "source": [
    "# 성능확인 코드\n",
    "from sklearn.model_selection import train_test_split\n",
    "from sklearn.metrics import confusion_matrix, accuracy_score, precision_score, recall_score\n",
    "from sklearn.metrics import f1_score, roc_auc_score, average_precision_score\n",
    "\n",
    "\n",
    "import warnings\n",
    "\n",
    "def get_clf_eval(MDA_y_test, pred):\n",
    "    confusion = confusion_matrix(MDA_y_test, pred)\n",
    "    accuracy = accuracy_score(MDA_y_test, pred)\n",
    "    precision = precision_score(MDA_y_test, pred)\n",
    "    recall = recall_score(MDA_y_test, pred)\n",
    "    roc_score = roc_auc_score(MDA_y_test, pred)\n",
    "    pr_score = average_precision_score(MDA_y_test, pred)\n",
    "    f1 = f1_score(MDA_y_test, pred)\n",
    "    print('오차행렬')\n",
    "    print(confusion)\n",
    "    print('정확도: {0:.4f}, 정밀도 : {1:.4f}, 재현율:{2:.4f},F1 스코어:{3:.4f}'.format(accuracy, precision, recall, f1, roc_score))\n",
    "    print('ROC 스코어: {0:.4f}, PR score : {1:.4f}'.format(roc_score, pr_score))\n",
    "    "
   ]
  },
  {
   "cell_type": "code",
   "execution_count": 8,
   "metadata": {},
   "outputs": [],
   "source": [
    "# 임계값에 따른 오차행렬및 스코어 -------->#임계값 최적 : 재현율기준(0.1)/f1기준(0.3)\n",
    "from sklearn.preprocessing import Binarizer\n",
    "thresholds = [0.1,0.2,0.3,0.4,0.5]\n",
    "\n",
    "def get_eval_by_threshold(MDA_y_test, pred_proba_c1, thresholds):\n",
    "    for custom_threshold in thresholds:\n",
    "        binarizer = Binarizer(threshold=custom_threshold).fit(pred_proba_c1)\n",
    "        custom_predict = binarizer.transform(pred_proba_c1)\n",
    "        print(\"임곗값:\", custom_threshold)\n",
    "        get_clf_eval(MDA_y_test, custom_predict)\n",
    "        print(\"---------------------------------------------------------\")"
   ]
  },
  {
   "cell_type": "code",
   "execution_count": 9,
   "metadata": {},
   "outputs": [
    {
     "name": "stdout",
     "output_type": "stream",
     "text": [
      "오차행렬\n",
      "[[2022 1721]\n",
      " [   6   74]]\n",
      "정확도: 0.5483, 정밀도 : 0.0412, 재현율:0.9250,F1 스코어:0.0789\n",
      "ROC 스코어: 0.7326, PR score : 0.0397\n"
     ]
    }
   ],
   "source": [
    "get_clf_eval(y_test, rf_pred_custom_threshold)"
   ]
  },
  {
   "cell_type": "code",
   "execution_count": 10,
   "metadata": {},
   "outputs": [
    {
     "name": "stdout",
     "output_type": "stream",
     "text": [
      "label\n",
      "0.0    3743\n",
      "1.0      80\n",
      "Name: count, dtype: int64\n",
      "pred_label\n",
      "0    2028\n",
      "1    1795\n",
      "Name: count, dtype: int64\n"
     ]
    }
   ],
   "source": [
    "test1[\"pred_label\"] = rf_pred_custom_threshold\n",
    "\n",
    "print(test1[\"label\"].value_counts())\n",
    "print(test1[\"pred_label\"].value_counts())"
   ]
  },
  {
   "cell_type": "markdown",
   "metadata": {},
   "source": [
    "test2 label 부여"
   ]
  },
  {
   "cell_type": "code",
   "execution_count": 11,
   "metadata": {},
   "outputs": [],
   "source": [
    "x_train= train_std.drop(\"label\",axis=1)\n",
    "y_train = train_std[\"label\"]\n",
    "x_test =test2_std.drop(\"label\",axis=1)\n",
    "y_test = test2_std[\"label\"]"
   ]
  },
  {
   "cell_type": "code",
   "execution_count": 12,
   "metadata": {},
   "outputs": [
    {
     "name": "stdout",
     "output_type": "stream",
     "text": [
      "(2496, 10)\n"
     ]
    },
    {
     "data": {
      "text/plain": [
       "label\n",
       "0.0    1248\n",
       "1.0    1248\n",
       "Name: count, dtype: int64"
      ]
     },
     "execution_count": 12,
     "metadata": {},
     "output_type": "execute_result"
    }
   ],
   "source": [
    "# 오버샘플링 SMOTE\n",
    "x_train, y_train = SMOTE(random_state=4).fit_resample(x_train,y_train)\n",
    "print(x_train.shape)\n",
    "y_train.value_counts()"
   ]
  },
  {
   "cell_type": "code",
   "execution_count": 13,
   "metadata": {},
   "outputs": [
    {
     "data": {
      "text/plain": [
       "410"
      ]
     },
     "execution_count": 13,
     "metadata": {},
     "output_type": "execute_result"
    }
   ],
   "source": [
    "# 1-3 랜덤포레스트 구현 \n",
    "from sklearn.ensemble import RandomForestClassifier\n",
    "from sklearn.preprocessing import Binarizer\n",
    "\n",
    "rf_clf = RandomForestClassifier(random_state=52,criterion ='entropy', max_depth =8,max_features='sqrt', \n",
    "                                     min_samples_leaf=4,  min_samples_split=4,n_estimators=20)\n",
    "# 임계값 설정\n",
    "threshold = 0.3\n",
    "rf_clf.fit(x_train, y_train)\n",
    "rf_pred = rf_clf.predict(x_test)\n",
    "rf_pred_proba = rf_clf.predict_proba(x_test)\n",
    "\n",
    "# 임계값 적용하여 이진 분류 예측\n",
    "rf_pred_custom_threshold = (rf_pred_proba[:, 1] > threshold).astype(int)\n",
    "rf_pred_custom_threshold.sum()"
   ]
  },
  {
   "cell_type": "code",
   "execution_count": 14,
   "metadata": {},
   "outputs": [
    {
     "name": "stdout",
     "output_type": "stream",
     "text": [
      "오차행렬\n",
      "[[1574  337]\n",
      " [  25   73]]\n",
      "정확도: 0.8198, 정밀도 : 0.1780, 재현율:0.7449,F1 스코어:0.2874\n",
      "ROC 스코어: 0.7843, PR score : 0.1451\n"
     ]
    }
   ],
   "source": [
    "get_clf_eval(y_test, rf_pred_custom_threshold)"
   ]
  },
  {
   "cell_type": "code",
   "execution_count": 15,
   "metadata": {},
   "outputs": [
    {
     "name": "stdout",
     "output_type": "stream",
     "text": [
      "label\n",
      "0.0    1911\n",
      "1.0      98\n",
      "Name: count, dtype: int64\n",
      "pred_label\n",
      "0    1599\n",
      "1     410\n",
      "Name: count, dtype: int64\n"
     ]
    }
   ],
   "source": [
    "test2[\"pred_label\"] = rf_pred_custom_threshold\n",
    "\n",
    "print(test2[\"label\"].value_counts())\n",
    "print(test2[\"pred_label\"].value_counts())"
   ]
  },
  {
   "cell_type": "code",
   "execution_count": 16,
   "metadata": {},
   "outputs": [],
   "source": [
    "# 투자할 때 써야됨\n",
    "df_all = pd.concat([train,test1,test2])\n",
    "df_all.reset_index(drop=True,inplace=True)\n",
    "\n",
    "df_all.to_csv(\"../data/예측 label 완료.csv\")"
   ]
  }
 ],
 "metadata": {
  "kernelspec": {
   "display_name": "Python 3",
   "language": "python",
   "name": "python3"
  },
  "language_info": {
   "codemirror_mode": {
    "name": "ipython",
    "version": 3
   },
   "file_extension": ".py",
   "mimetype": "text/x-python",
   "name": "python",
   "nbconvert_exporter": "python",
   "pygments_lexer": "ipython3",
   "version": "3.11.6"
  }
 },
 "nbformat": 4,
 "nbformat_minor": 2
}
