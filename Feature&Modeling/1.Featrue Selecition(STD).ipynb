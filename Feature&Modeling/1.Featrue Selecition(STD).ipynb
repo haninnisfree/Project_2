{
 "cells": [
  {
   "cell_type": "code",
   "execution_count": 1,
   "metadata": {},
   "outputs": [],
   "source": [
    "import pandas as pd\n",
    "import numpy as np\n",
    "\n",
    "train = pd.read_csv(\"../data/7. train 이상치수정완료.csv\",encoding='cp949',index_col=0)\n",
    "test1 = pd.read_csv(\"../data/6. test1.csv\",index_col=0)\n",
    "test2 = pd.read_csv(\"../data/6. test2.csv\",index_col=0)"
   ]
  },
  {
   "cell_type": "code",
   "execution_count": 2,
   "metadata": {},
   "outputs": [],
   "source": [
    "col = train.columns[7:55]\n",
    "train_1 = train[col]\n",
    "test_1 = test1[col]\n",
    "test_2 = test2[col]"
   ]
  },
  {
   "cell_type": "code",
   "execution_count": 3,
   "metadata": {},
   "outputs": [],
   "source": [
    "from sklearn.preprocessing import StandardScaler\n",
    "scaler = StandardScaler()\n",
    "scaler.fit(train_1)\n",
    "\n",
    "train_Std = scaler.transform(train_1)\n",
    "test1_Std = scaler.transform(test_1)\n",
    "test2_Std = scaler.transform(test_2)\n",
    "train_Std = pd.DataFrame(train_Std,columns = train_1.columns)\n",
    "test1_Std = pd.DataFrame(test1_Std,columns = test_1.columns)\n",
    "test2_Std = pd.DataFrame(test2_Std,columns = test_2.columns)"
   ]
  },
  {
   "cell_type": "code",
   "execution_count": 4,
   "metadata": {},
   "outputs": [],
   "source": [
    "train[col] = train_Std\n",
    "test1[col] = test1_Std\n",
    "test2[col] = test2_Std"
   ]
  }
 ],
 "metadata": {
  "kernelspec": {
   "display_name": "Python 3",
   "language": "python",
   "name": "python3"
  },
  "language_info": {
   "codemirror_mode": {
    "name": "ipython",
    "version": 3
   },
   "file_extension": ".py",
   "mimetype": "text/x-python",
   "name": "python",
   "nbconvert_exporter": "python",
   "pygments_lexer": "ipython3",
   "version": "3.11.6"
  }
 },
 "nbformat": 4,
 "nbformat_minor": 2
}
