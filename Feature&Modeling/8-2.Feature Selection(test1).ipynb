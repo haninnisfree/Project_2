{
 "cells": [
  {
   "cell_type": "code",
   "execution_count": 1,
   "metadata": {},
   "outputs": [],
   "source": [
    "import pandas as pd\n",
    "import numpy as np\n",
    "\n",
    "train = pd.read_csv(\"../data/7. train 이상치수정완료.csv\",encoding='cp949',index_col=0)\n",
    "test1 = pd.read_csv(\"../data/6. test1.csv\",index_col=0)\n",
    "test2 = pd.read_csv(\"../data/6. test2.csv\",index_col=0)"
   ]
  },
  {
   "cell_type": "code",
   "execution_count": 2,
   "metadata": {},
   "outputs": [],
   "source": [
    "from sklearn.preprocessing import StandardScaler\n",
    "\n",
    "train_1 = train[train.columns[7:56]] # 필요한 데이터 셀렉\n",
    "\n",
    "scaler = StandardScaler() # 스탠다드 스케일링\n",
    "scaler.fit(train_1)\n",
    "train_Std = scaler.transform(train_1)\n",
    "X_train = pd.DataFrame(train_Std,columns = train_1.columns).drop('label',axis=1)\n",
    "y_train = train_1[['label']]"
   ]
  },
  {
   "cell_type": "markdown",
   "metadata": {},
   "source": [
    "t-검정을 위한 정규성검정(MDA)\n",
    "- 등분산검정"
   ]
  },
  {
   "cell_type": "code",
   "execution_count": 3,
   "metadata": {},
   "outputs": [
    {
     "name": "stderr",
     "output_type": "stream",
     "text": [
      "c:\\Users\\dlsgm\\AppData\\Local\\Programs\\Python\\Python311\\Lib\\site-packages\\scipy\\stats\\_morestats.py:2901: RuntimeWarning: divide by zero encountered in log\n",
      "  numer = (Ntot*1.0 - k) * log(spsq) - np.sum((Ni - 1.0)*log(ssq), axis=0)\n",
      "c:\\Users\\dlsgm\\AppData\\Local\\Programs\\Python\\Python311\\Lib\\site-packages\\scipy\\stats\\_morestats.py:2901: RuntimeWarning: invalid value encountered in scalar subtract\n",
      "  numer = (Ntot*1.0 - k) * log(spsq) - np.sum((Ni - 1.0)*log(ssq), axis=0)\n",
      "c:\\Users\\dlsgm\\AppData\\Local\\Programs\\Python\\Python311\\Lib\\site-packages\\scipy\\stats\\_morestats.py:2901: RuntimeWarning: divide by zero encountered in log\n",
      "  numer = (Ntot*1.0 - k) * log(spsq) - np.sum((Ni - 1.0)*log(ssq), axis=0)\n",
      "c:\\Users\\dlsgm\\AppData\\Local\\Programs\\Python\\Python311\\Lib\\site-packages\\scipy\\stats\\_morestats.py:2901: RuntimeWarning: invalid value encountered in scalar subtract\n",
      "  numer = (Ntot*1.0 - k) * log(spsq) - np.sum((Ni - 1.0)*log(ssq), axis=0)\n"
     ]
    }
   ],
   "source": [
    "# H가 1인 경우 이분산성 / H가 0인 경우 등분산\n",
    "from scipy.stats import bartlett\n",
    "def bartlett_test(col, p_value = 0.05, H = 1):\n",
    "    list= []\n",
    "    for i in col:\n",
    "        T, p_val =bartlett(train_1[train_1['label']==1][i], train_1[train_1['label']==0][i]) \n",
    "        list.append([i, p_val])\n",
    "\n",
    "    list = pd.DataFrame(list, columns = ['변수', 'p_value'])\n",
    "    if H == 1:\n",
    "        a = list[(list['p_value'] < p_value)][['변수', 'p_value']].sort_values('p_value')\n",
    "        return a\n",
    "    else:\n",
    "        a = list[(list['p_value'] >= p_value)][['변수', 'p_value']].sort_values('p_value')\n",
    "        return a\n",
    "\n",
    "# 이분산성 변수\n",
    "x_hetero = bartlett_test(train_1.columns, H = 1)\n",
    "# 등분산성 변수\n",
    "x_homo = bartlett_test(train_1.columns, H = 0)"
   ]
  },
  {
   "cell_type": "markdown",
   "metadata": {},
   "source": [
    "t-검정"
   ]
  },
  {
   "cell_type": "code",
   "execution_count": 4,
   "metadata": {},
   "outputs": [
    {
     "name": "stdout",
     "output_type": "stream",
     "text": [
      "유의한 피쳐 수 : 33\n"
     ]
    },
    {
     "data": {
      "text/html": [
       "<div>\n",
       "<style scoped>\n",
       "    .dataframe tbody tr th:only-of-type {\n",
       "        vertical-align: middle;\n",
       "    }\n",
       "\n",
       "    .dataframe tbody tr th {\n",
       "        vertical-align: top;\n",
       "    }\n",
       "\n",
       "    .dataframe thead th {\n",
       "        text-align: right;\n",
       "    }\n",
       "</style>\n",
       "<table border=\"1\" class=\"dataframe\">\n",
       "  <thead>\n",
       "    <tr style=\"text-align: right;\">\n",
       "      <th></th>\n",
       "      <th>변수</th>\n",
       "      <th>p_value</th>\n",
       "    </tr>\n",
       "  </thead>\n",
       "  <tbody>\n",
       "    <tr>\n",
       "      <th>13</th>\n",
       "      <td>1주당매출액</td>\n",
       "      <td>0.000000</td>\n",
       "    </tr>\n",
       "    <tr>\n",
       "      <th>14</th>\n",
       "      <td>1주당순이익</td>\n",
       "      <td>0.000000</td>\n",
       "    </tr>\n",
       "    <tr>\n",
       "      <th>43</th>\n",
       "      <td>기계투자효율</td>\n",
       "      <td>0.000176</td>\n",
       "    </tr>\n",
       "    <tr>\n",
       "      <th>16</th>\n",
       "      <td>당좌비율</td>\n",
       "      <td>0.028453</td>\n",
       "    </tr>\n",
       "    <tr>\n",
       "      <th>31</th>\n",
       "      <td>매입채무회전기간</td>\n",
       "      <td>0.037297</td>\n",
       "    </tr>\n",
       "    <tr>\n",
       "      <th>9</th>\n",
       "      <td>매출액순이익률</td>\n",
       "      <td>0.000001</td>\n",
       "    </tr>\n",
       "    <tr>\n",
       "      <th>40</th>\n",
       "      <td>부가가치</td>\n",
       "      <td>0.000032</td>\n",
       "    </tr>\n",
       "    <tr>\n",
       "      <th>44</th>\n",
       "      <td>부가가치율</td>\n",
       "      <td>0.000001</td>\n",
       "    </tr>\n",
       "    <tr>\n",
       "      <th>19</th>\n",
       "      <td>부채비율</td>\n",
       "      <td>0.000052</td>\n",
       "    </tr>\n",
       "    <tr>\n",
       "      <th>21</th>\n",
       "      <td>비유동비율</td>\n",
       "      <td>0.000118</td>\n",
       "    </tr>\n",
       "    <tr>\n",
       "      <th>3</th>\n",
       "      <td>비유동자산증가율</td>\n",
       "      <td>0.000015</td>\n",
       "    </tr>\n",
       "    <tr>\n",
       "      <th>27</th>\n",
       "      <td>비유동자산회전률</td>\n",
       "      <td>0.007444</td>\n",
       "    </tr>\n",
       "    <tr>\n",
       "      <th>42</th>\n",
       "      <td>설비투자효율</td>\n",
       "      <td>0.000008</td>\n",
       "    </tr>\n",
       "    <tr>\n",
       "      <th>18</th>\n",
       "      <td>순운전자본비율</td>\n",
       "      <td>0.000001</td>\n",
       "    </tr>\n",
       "    <tr>\n",
       "      <th>36</th>\n",
       "      <td>순운전자본회전률</td>\n",
       "      <td>0.000016</td>\n",
       "    </tr>\n",
       "    <tr>\n",
       "      <th>7</th>\n",
       "      <td>순이익증가율</td>\n",
       "      <td>0.000000</td>\n",
       "    </tr>\n",
       "    <tr>\n",
       "      <th>15</th>\n",
       "      <td>유동비율</td>\n",
       "      <td>0.017136</td>\n",
       "    </tr>\n",
       "    <tr>\n",
       "      <th>4</th>\n",
       "      <td>유동자산증가율</td>\n",
       "      <td>0.000149</td>\n",
       "    </tr>\n",
       "    <tr>\n",
       "      <th>47</th>\n",
       "      <td>이윤분배율</td>\n",
       "      <td>0.006449</td>\n",
       "    </tr>\n",
       "    <tr>\n",
       "      <th>20</th>\n",
       "      <td>이자보상배율이자비용</td>\n",
       "      <td>0.000024</td>\n",
       "    </tr>\n",
       "    <tr>\n",
       "      <th>23</th>\n",
       "      <td>자기자본구성비율</td>\n",
       "      <td>0.000001</td>\n",
       "    </tr>\n",
       "    <tr>\n",
       "      <th>24</th>\n",
       "      <td>자기자본배율</td>\n",
       "      <td>0.000000</td>\n",
       "    </tr>\n",
       "    <tr>\n",
       "      <th>10</th>\n",
       "      <td>자기자본순이익률</td>\n",
       "      <td>0.000000</td>\n",
       "    </tr>\n",
       "    <tr>\n",
       "      <th>5</th>\n",
       "      <td>자기자본증가율</td>\n",
       "      <td>0.000000</td>\n",
       "    </tr>\n",
       "    <tr>\n",
       "      <th>46</th>\n",
       "      <td>자본분배율</td>\n",
       "      <td>0.000306</td>\n",
       "    </tr>\n",
       "    <tr>\n",
       "      <th>2</th>\n",
       "      <td>재고자산증가율</td>\n",
       "      <td>0.000515</td>\n",
       "    </tr>\n",
       "    <tr>\n",
       "      <th>32</th>\n",
       "      <td>재고자산회전기간</td>\n",
       "      <td>0.089662</td>\n",
       "    </tr>\n",
       "    <tr>\n",
       "      <th>11</th>\n",
       "      <td>총자본사업이익률</td>\n",
       "      <td>0.000000</td>\n",
       "    </tr>\n",
       "    <tr>\n",
       "      <th>12</th>\n",
       "      <td>총자본순이익률</td>\n",
       "      <td>0.000000</td>\n",
       "    </tr>\n",
       "    <tr>\n",
       "      <th>6</th>\n",
       "      <td>총자본증가율</td>\n",
       "      <td>0.000000</td>\n",
       "    </tr>\n",
       "    <tr>\n",
       "      <th>41</th>\n",
       "      <td>총자본투자효율</td>\n",
       "      <td>0.000000</td>\n",
       "    </tr>\n",
       "    <tr>\n",
       "      <th>25</th>\n",
       "      <td>총자본회전률</td>\n",
       "      <td>0.000053</td>\n",
       "    </tr>\n",
       "    <tr>\n",
       "      <th>17</th>\n",
       "      <td>현금비율</td>\n",
       "      <td>0.000341</td>\n",
       "    </tr>\n",
       "  </tbody>\n",
       "</table>\n",
       "</div>"
      ],
      "text/plain": [
       "            변수   p_value\n",
       "13      1주당매출액  0.000000\n",
       "14      1주당순이익  0.000000\n",
       "43      기계투자효율  0.000176\n",
       "16        당좌비율  0.028453\n",
       "31    매입채무회전기간  0.037297\n",
       "9      매출액순이익률  0.000001\n",
       "40        부가가치  0.000032\n",
       "44       부가가치율  0.000001\n",
       "19        부채비율  0.000052\n",
       "21       비유동비율  0.000118\n",
       "3     비유동자산증가율  0.000015\n",
       "27    비유동자산회전률  0.007444\n",
       "42      설비투자효율  0.000008\n",
       "18     순운전자본비율  0.000001\n",
       "36    순운전자본회전률  0.000016\n",
       "7       순이익증가율  0.000000\n",
       "15        유동비율  0.017136\n",
       "4      유동자산증가율  0.000149\n",
       "47       이윤분배율  0.006449\n",
       "20  이자보상배율이자비용  0.000024\n",
       "23    자기자본구성비율  0.000001\n",
       "24      자기자본배율  0.000000\n",
       "10    자기자본순이익률  0.000000\n",
       "5      자기자본증가율  0.000000\n",
       "46       자본분배율  0.000306\n",
       "2      재고자산증가율  0.000515\n",
       "32    재고자산회전기간  0.089662\n",
       "11    총자본사업이익률  0.000000\n",
       "12     총자본순이익률  0.000000\n",
       "6       총자본증가율  0.000000\n",
       "41     총자본투자효율  0.000000\n",
       "25      총자본회전률  0.000053\n",
       "17        현금비율  0.000341"
      ]
     },
     "execution_count": 4,
     "metadata": {},
     "output_type": "execute_result"
    }
   ],
   "source": [
    "# t-test\n",
    "\n",
    "import scipy.stats as stats\n",
    "def t_test(col, col_h0, col_h1, p_value = 0.05):\n",
    "    list= []\n",
    "    for i in col:\n",
    "        if (col_h0['변수']==i).any():\n",
    "            t_stat, p_val = stats.ttest_ind(train_1[train_1['label']==1][i], train_1[train_1['label']==0][i], equal_var=True) # 등분산성 : wald t-test\n",
    "            list.append([i, p_val])\n",
    "        elif (col_h1['변수']==i).any():\n",
    "            t_stat, p_val = stats.ttest_ind(train_1[train_1['label']==1][i], train_1[train_1['label']==0][i], equal_var=False) # 이분산성 : welch’s t-test\n",
    "            list.append([i, p_val])\n",
    "\n",
    "    list = pd.DataFrame(list, columns = ['변수', 'p_value'])\n",
    "    a = list[(list['p_value'] < p_value)][['변수', 'p_value']].sort_values('p_value').round(6)\n",
    "    return a\n",
    "\n",
    "\n",
    "# 2) t_test 결과 p_value < 0.05보다 작은 유의한 변수 가져오기\n",
    "x_ttest = t_test(train_1.columns, x_homo, x_hetero, p_value=0.1)\n",
    "print(\"유의한 피쳐 수 :\", len(x_ttest))\n",
    "x_ttest.sort_values(by=\"변수\", ascending=True)"
   ]
  },
  {
   "cell_type": "code",
   "execution_count": 5,
   "metadata": {},
   "outputs": [
    {
     "name": "stdout",
     "output_type": "stream",
     "text": [
      "20\n",
      "['자기자본배율', '순이익증가율', '1주당매출액', '총자본순이익률', '1주당순이익', '총자본사업이익률', '자기자본순이익률', '자기자본증가율', '총자본투자효율', '총자본증가율', '매출액순이익률', '부가가치율', '순운전자본비율', '자기자본구성비율', '설비투자효율', '비유동자산증가율', '순운전자본회전률', '이자보상배율이자비용', '부가가치', '부채비율']\n"
     ]
    }
   ],
   "source": [
    "# 유의한 피처들 중에서 p_value가 가장 작은 상위 10개의 '변수' 이름만 추출\n",
    "top20_ttest= x_ttest.sort_values(by=\"p_value\", ascending=True)['변수'].head(20).tolist()\n",
    "\n",
    "# 결과 출력\n",
    "print(len(top20_ttest))\n",
    "print(top20_ttest)\n"
   ]
  },
  {
   "cell_type": "code",
   "execution_count": 6,
   "metadata": {},
   "outputs": [
    {
     "name": "stdout",
     "output_type": "stream",
     "text": [
      "17\n",
      "['매출액증가율', '재고자산증가율', '자기자본증가율', '총자본증가율', '순이익증가율', '매출액총이익률', '자기자본순이익률', '순운전자본비율', '이자보상배율이자비용', '자기자본배율', '매출채권회전률', '1회전기간', '총자본투자효율', '설비투자효율', '기계투자효율', '부가가치율', '이윤분배율']\n"
     ]
    },
    {
     "name": "stderr",
     "output_type": "stream",
     "text": [
      "c:\\Users\\dlsgm\\AppData\\Local\\Programs\\Python\\Python311\\Lib\\site-packages\\sklearn\\utils\\validation.py:1183: DataConversionWarning: A column-vector y was passed when a 1d array was expected. Please change the shape of y to (n_samples, ), for example using ravel().\n",
      "  y = column_or_1d(y, warn=True)\n"
     ]
    }
   ],
   "source": [
    "from sklearn.linear_model import LogisticRegression\n",
    "from sklearn.feature_selection import SelectFromModel\n",
    "from sklearn.linear_model import Lasso\n",
    "from sklearn.linear_model import ElasticNet\n",
    "\n",
    "# 12개 피처로 조정 C 값 조정\n",
    "lasso = SelectFromModel(LogisticRegression(C=0.2, penalty='l1',solver='liblinear'))\n",
    "lasso.fit(X_train, y_train)\n",
    "lasso_support = lasso.get_support()\n",
    "lasso_feature = X_train.loc[:,lasso_support].columns.tolist()\n",
    "\n",
    "print(len(lasso_feature))\n",
    "print(lasso_feature)"
   ]
  },
  {
   "cell_type": "markdown",
   "metadata": {},
   "source": [
    "공통피처"
   ]
  },
  {
   "cell_type": "code",
   "execution_count": 7,
   "metadata": {},
   "outputs": [
    {
     "name": "stdout",
     "output_type": "stream",
     "text": [
      "공통 피처수: 10\n",
      "공통 피처들: ['부가가치율', '자기자본순이익률', '총자본투자효율', '자기자본배율', '총자본증가율', '순이익증가율', '설비투자효율', '이자보상배율이자비용', '자기자본증가율', '순운전자본비율']\n"
     ]
    }
   ],
   "source": [
    "# lasso_feature에서 선택된 피처들과 top_10_feature_names에서 선택된 피처들의 교집합을 찾음\n",
    "common_features = set(lasso_feature).intersection(top20_ttest)\n",
    "\n",
    "# 공통 피처들 출력\n",
    "print(\"공통 피처수:\", len(common_features))\n",
    "print(\"공통 피처들:\", list(common_features))\n"
   ]
  },
  {
   "cell_type": "markdown",
   "metadata": {},
   "source": [
    "최종피처 10개"
   ]
  },
  {
   "cell_type": "code",
   "execution_count": 8,
   "metadata": {},
   "outputs": [],
   "source": [
    "fea = ['총자본증가율','순이익증가율','자기자본순이익률','1주당매출액','1회전기간','매출채권회전률','자기자본배율','순운전자본비율','총자본투자효율','설비투자효율','label']\n",
    "\n",
    "train_selected_feature= train[fea]\n",
    "test1_selected_feature= test1[fea]\n",
    "test2_selected_feature= test2[fea]\n",
    "\n",
    "train_selected_feature.to_csv(\"../data/8-1 train(std).csv\")  \n",
    "test1_selected_feature.to_csv(\"../data/8-1 test1(std).csv\") \n",
    "test2_selected_feature.to_csv(\"../data/8-1 test2(std).csv\") "
   ]
  }
 ],
 "metadata": {
  "kernelspec": {
   "display_name": "Python 3",
   "language": "python",
   "name": "python3"
  },
  "language_info": {
   "codemirror_mode": {
    "name": "ipython",
    "version": 3
   },
   "file_extension": ".py",
   "mimetype": "text/x-python",
   "name": "python",
   "nbconvert_exporter": "python",
   "pygments_lexer": "ipython3",
   "version": "3.11.6"
  }
 },
 "nbformat": 4,
 "nbformat_minor": 2
}
