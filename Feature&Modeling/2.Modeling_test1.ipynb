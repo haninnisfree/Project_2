{
 "cells": [
  {
   "cell_type": "code",
   "execution_count": 1,
   "metadata": {},
   "outputs": [],
   "source": [
    "# 필요 라이브러리 import \n",
    "import pandas as pd\n",
    "import numpy as np\n",
    "from sklearn.preprocessing import MinMaxScaler\n",
    "import matplotlib.pyplot as plt\n",
    "%matplotlib inline\n",
    "import warnings\n",
    "import warnings\n",
    "warnings.filterwarnings(action='ignore')\n",
    "\n",
    "from imblearn.under_sampling import RandomUnderSampler\n",
    "from imblearn.over_sampling import RandomOverSampler\n",
    "from imblearn.over_sampling import SMOTE\n",
    "\n",
    "from sklearn.datasets import make_classification\n",
    "from collections import Counter\n",
    "\n",
    "from matplotlib import pyplot as plt\n",
    "import seaborn as sns"
   ]
  },
  {
   "cell_type": "code",
   "execution_count": 2,
   "metadata": {},
   "outputs": [
    {
     "name": "stdout",
     "output_type": "stream",
     "text": [
      "label\n",
      "0    1223\n",
      "1      88\n",
      "Name: count, dtype: int64\n",
      "label\n",
      "0.0    3743\n",
      "1.0      80\n",
      "Name: count, dtype: int64\n",
      "label\n",
      "0.0    1911\n",
      "1.0      98\n",
      "Name: count, dtype: int64\n"
     ]
    }
   ],
   "source": [
    "train = pd.read_csv(\"../data/8-1 train(std).csv\",index_col=0)\n",
    "test1 = pd.read_csv(\"../data/8-1 test1(std).csv\",index_col=0)\n",
    "test2 = pd.read_csv(\"../data/8-1 test2(std).csv\",index_col=0)\n",
    "\n",
    "print(train['label'].value_counts())\n",
    "print(test1['label'].value_counts())\n",
    "print(test2['label'].value_counts())"
   ]
  },
  {
   "cell_type": "markdown",
   "metadata": {},
   "source": [
    "데이터분할"
   ]
  },
  {
   "cell_type": "code",
   "execution_count": 3,
   "metadata": {},
   "outputs": [],
   "source": [
    "x_train = train.drop(\"label\",axis=1)\n",
    "y_train = train[\"label\"]\n",
    "x_test =test1.drop(\"label\",axis=1)\n",
    "y_test = test1[\"label\"]"
   ]
  },
  {
   "cell_type": "markdown",
   "metadata": {},
   "source": [
    "오버샘플링 SMOTE"
   ]
  },
  {
   "cell_type": "code",
   "execution_count": 4,
   "metadata": {},
   "outputs": [
    {
     "name": "stdout",
     "output_type": "stream",
     "text": [
      "(2446, 10)\n"
     ]
    },
    {
     "data": {
      "text/plain": [
       "label\n",
       "0    1223\n",
       "1    1223\n",
       "Name: count, dtype: int64"
      ]
     },
     "execution_count": 4,
     "metadata": {},
     "output_type": "execute_result"
    }
   ],
   "source": [
    "x_train, y_train = SMOTE(random_state=4).fit_resample(x_train,y_train)\n",
    "print(x_train.shape)\n",
    "y_train.value_counts()"
   ]
  },
  {
   "cell_type": "code",
   "execution_count": 5,
   "metadata": {},
   "outputs": [],
   "source": [
    "# 성능확인 코드\n",
    "from sklearn.model_selection import train_test_split\n",
    "from sklearn.metrics import confusion_matrix, accuracy_score, precision_score, recall_score\n",
    "from sklearn.metrics import f1_score, roc_auc_score, average_precision_score\n",
    "\n",
    "\n",
    "import warnings\n",
    "\n",
    "def get_clf_eval(MDA_y_test, pred):\n",
    "    confusion = confusion_matrix(MDA_y_test, pred)\n",
    "    accuracy = accuracy_score(MDA_y_test, pred)\n",
    "    precision = precision_score(MDA_y_test, pred)\n",
    "    recall = recall_score(MDA_y_test, pred)\n",
    "    roc_score = roc_auc_score(MDA_y_test, pred)\n",
    "    pr_score = average_precision_score(MDA_y_test, pred)\n",
    "    f1 = f1_score(MDA_y_test, pred)\n",
    "    print('오차행렬')\n",
    "    print(confusion)\n",
    "    print('정확도: {0:.4f}, 정밀도 : {1:.4f}, 재현율:{2:.4f},F1 스코어:{3:.4f}'.format(accuracy, precision, recall, f1, roc_score))\n",
    "    print('ROC 스코어: {0:.4f}, PR score : {1:.4f}'.format(roc_score, pr_score))"
   ]
  },
  {
   "cell_type": "code",
   "execution_count": 6,
   "metadata": {},
   "outputs": [],
   "source": [
    "# 임계값에 따른 오차행렬및 스코어 -------->#임계값 최적 : 재현율기준(0.1)/f1기준(0.3)\n",
    "from sklearn.preprocessing import Binarizer\n",
    "thresholds = [0.1,0.2,0.3,0.4,0.5]\n",
    "\n",
    "def get_eval_by_threshold(MDA_y_test, pred_proba_c1, thresholds):\n",
    "    for custom_threshold in thresholds:\n",
    "        binarizer = Binarizer(threshold=custom_threshold).fit(pred_proba_c1)\n",
    "        custom_predict = binarizer.transform(pred_proba_c1)\n",
    "        print(\"임곗값:\", custom_threshold)\n",
    "        get_clf_eval(MDA_y_test, custom_predict)\n",
    "        print(\"---------------------------------------------------------\")\n",
    "\n"
   ]
  },
  {
   "cell_type": "code",
   "execution_count": 7,
   "metadata": {},
   "outputs": [],
   "source": [
    "# Roc Auc 그래프 값 확인 코드\n",
    "from sklearn.metrics import roc_curve\n",
    "from sklearn.metrics import roc_auc_score\n",
    "def roc_curve_plot(MDA_y_test, pred_proba_c1):\n",
    "    fprs, tprs, thresholds = roc_curve(MDA_y_test, pred_proba_c1)\n",
    "    \n",
    "    plt.plot(fprs, tprs, label='ROC')\n",
    "    plt.plot([0,1],[0,1], 'k--', label = 'Random')\n",
    "    \n",
    "    start, end= plt.xlim()\n",
    "    plt.xticks(np.round(np.arange(start, end, 0.1),2))\n",
    "    plt.xlim(0,1); plt.ylim(0,1)\n",
    "    plt.xlabel('FPR(1-Sensitivity)'); plt.ylabel('TPR(Recall)')\n",
    "    plt.legend()\n",
    "    plt.show()"
   ]
  },
  {
   "cell_type": "code",
   "execution_count": 8,
   "metadata": {},
   "outputs": [
    {
     "name": "stdout",
     "output_type": "stream",
     "text": [
      "---------------------------------------------------------\n",
      "오차행렬\n",
      "[[3212  531]\n",
      " [  24   56]]\n",
      "정확도: 0.8548, 정밀도 : 0.0954, 재현율:0.7000,F1 스코어:0.1679\n",
      "ROC 스코어: 0.7791, PR score : 0.0731\n",
      "임곗값: 0.1\n",
      "오차행렬\n",
      "[[ 904 2839]\n",
      " [   6   74]]\n",
      "정확도: 0.2558, 정밀도 : 0.0254, 재현율:0.9250,F1 스코어:0.0494\n",
      "ROC 스코어: 0.5833, PR score : 0.0251\n",
      "---------------------------------------------------------\n",
      "임곗값: 0.2\n",
      "오차행렬\n",
      "[[1766 1977]\n",
      " [   7   73]]\n",
      "정확도: 0.4810, 정밀도 : 0.0356, 재현율:0.9125,F1 스코어:0.0685\n",
      "ROC 스코어: 0.6922, PR score : 0.0343\n",
      "---------------------------------------------------------\n",
      "임곗값: 0.3\n",
      "오차행렬\n",
      "[[2418 1325]\n",
      " [  14   66]]\n",
      "정확도: 0.6498, 정밀도 : 0.0474, 재현율:0.8250,F1 스코어:0.0897\n",
      "ROC 스코어: 0.7355, PR score : 0.0428\n",
      "---------------------------------------------------------\n",
      "임곗값: 0.4\n",
      "오차행렬\n",
      "[[2896  847]\n",
      " [  19   61]]\n",
      "정확도: 0.7735, 정밀도 : 0.0672, 재현율:0.7625,F1 스코어:0.1235\n",
      "ROC 스코어: 0.7681, PR score : 0.0562\n",
      "---------------------------------------------------------\n",
      "임곗값: 0.5\n",
      "오차행렬\n",
      "[[3212  531]\n",
      " [  24   56]]\n",
      "정확도: 0.8548, 정밀도 : 0.0954, 재현율:0.7000,F1 스코어:0.1679\n",
      "ROC 스코어: 0.7791, PR score : 0.0731\n",
      "---------------------------------------------------------\n"
     ]
    }
   ],
   "source": [
    "# 1-1 LDA \n",
    "from sklearn.discriminant_analysis import LinearDiscriminantAnalysis\n",
    "lda_clf = LinearDiscriminantAnalysis()\n",
    "\n",
    "lda_clf.fit(x_train, y_train)\n",
    "lda_pred = lda_clf.predict(x_test)\n",
    "lda_pred_proba = lda_clf.predict_proba(x_test)\n",
    "print(\"---------------------------------------------------------\") \n",
    "get_clf_eval(y_test, lda_pred)\n",
    "get_eval_by_threshold(y_test , lda_pred_proba[:,1].reshape(-1,1), thresholds)\n",
    "    "
   ]
  },
  {
   "cell_type": "code",
   "execution_count": 9,
   "metadata": {},
   "outputs": [
    {
     "name": "stdout",
     "output_type": "stream",
     "text": [
      "오차행렬\n",
      "[[3271  472]\n",
      " [  33   47]]\n",
      "정확도: 0.8679, 정밀도 : 0.0906, 재현율:0.5875,F1 스코어:0.1569\n",
      "ROC 스코어: 0.7307, PR score : 0.0618\n",
      "임곗값: 0.1\n",
      "오차행렬\n",
      "[[3271  472]\n",
      " [  33   47]]\n",
      "정확도: 0.8679, 정밀도 : 0.0906, 재현율:0.5875,F1 스코어:0.1569\n",
      "ROC 스코어: 0.7307, PR score : 0.0618\n",
      "---------------------------------------------------------\n",
      "임곗값: 0.2\n",
      "오차행렬\n",
      "[[3271  472]\n",
      " [  33   47]]\n",
      "정확도: 0.8679, 정밀도 : 0.0906, 재현율:0.5875,F1 스코어:0.1569\n",
      "ROC 스코어: 0.7307, PR score : 0.0618\n",
      "---------------------------------------------------------\n",
      "임곗값: 0.3\n",
      "오차행렬\n",
      "[[3271  472]\n",
      " [  33   47]]\n",
      "정확도: 0.8679, 정밀도 : 0.0906, 재현율:0.5875,F1 스코어:0.1569\n",
      "ROC 스코어: 0.7307, PR score : 0.0618\n",
      "---------------------------------------------------------\n",
      "임곗값: 0.4\n",
      "오차행렬\n",
      "[[3271  472]\n",
      " [  33   47]]\n",
      "정확도: 0.8679, 정밀도 : 0.0906, 재현율:0.5875,F1 스코어:0.1569\n",
      "ROC 스코어: 0.7307, PR score : 0.0618\n",
      "---------------------------------------------------------\n",
      "임곗값: 0.5\n",
      "오차행렬\n",
      "[[3271  472]\n",
      " [  33   47]]\n",
      "정확도: 0.8679, 정밀도 : 0.0906, 재현율:0.5875,F1 스코어:0.1569\n",
      "ROC 스코어: 0.7307, PR score : 0.0618\n",
      "---------------------------------------------------------\n"
     ]
    }
   ],
   "source": [
    "# 1-2 디시전트리 \n",
    "from sklearn.tree import DecisionTreeClassifier \n",
    "dt_clf = DecisionTreeClassifier(random_state=52)\n",
    "\n",
    "dt_clf.fit(x_train, y_train)\n",
    "dt_pred = dt_clf.predict(x_test)\n",
    "dt_pred_proba = dt_clf.predict_proba(x_test)   \n",
    "\n",
    "get_clf_eval(y_test, dt_pred)\n",
    "get_eval_by_threshold(y_test , dt_pred_proba[:,1].reshape(-1,1), thresholds)\n",
    "    \n"
   ]
  },
  {
   "cell_type": "code",
   "execution_count": 10,
   "metadata": {},
   "outputs": [
    {
     "name": "stdout",
     "output_type": "stream",
     "text": [
      "최적 하이퍼 파라미터 :{'criterion': 'gini', 'max_depth': 8, 'max_features': 'sqrt', 'min_samples_leaf': 6, 'min_samples_split': 4}, 최적 평균 정확도 :0.876\n",
      "디시전트리 파라미터적용\n",
      "오차행렬\n",
      "[[3030  713]\n",
      " [  26   54]]\n",
      "정확도: 0.8067, 정밀도 : 0.0704, 재현율:0.6750,F1 스코어:0.1275\n",
      "ROC 스코어: 0.7423, PR score : 0.0543\n",
      "임곗값: 0.1\n",
      "오차행렬\n",
      "[[2057 1686]\n",
      " [  14   66]]\n",
      "정확도: 0.5553, 정밀도 : 0.0377, 재현율:0.8250,F1 스코어:0.0721\n",
      "ROC 스코어: 0.6873, PR score : 0.0347\n",
      "---------------------------------------------------------\n",
      "임곗값: 0.2\n",
      "오차행렬\n",
      "[[2612 1131]\n",
      " [  19   61]]\n",
      "정확도: 0.6992, 정밀도 : 0.0512, 재현율:0.7625,F1 스코어:0.0959\n",
      "ROC 스코어: 0.7302, PR score : 0.0440\n",
      "---------------------------------------------------------\n",
      "임곗값: 0.3\n",
      "오차행렬\n",
      "[[2831  912]\n",
      " [  20   60]]\n",
      "정확도: 0.7562, 정밀도 : 0.0617, 재현율:0.7500,F1 스코어:0.1141\n",
      "ROC 스코어: 0.7532, PR score : 0.0515\n",
      "---------------------------------------------------------\n",
      "임곗값: 0.4\n",
      "오차행렬\n",
      "[[2961  782]\n",
      " [  25   55]]\n",
      "정확도: 0.7889, 정밀도 : 0.0657, 재현율:0.6875,F1 스코어:0.1200\n",
      "ROC 스코어: 0.7393, PR score : 0.0517\n",
      "---------------------------------------------------------\n",
      "임곗값: 0.5\n",
      "오차행렬\n",
      "[[3030  713]\n",
      " [  26   54]]\n",
      "정확도: 0.8067, 정밀도 : 0.0704, 재현율:0.6750,F1 스코어:0.1275\n",
      "ROC 스코어: 0.7423, PR score : 0.0543\n",
      "---------------------------------------------------------\n"
     ]
    }
   ],
   "source": [
    "from sklearn.tree import DecisionTreeClassifier \n",
    "dt_clf = DecisionTreeClassifier(random_state=52)\n",
    "from sklearn.model_selection import GridSearchCV\n",
    "tree = DecisionTreeClassifier(random_state=52)\n",
    "\n",
    "# key: 하이퍼파라미터 명; value: [후보값들] 을 리스트로 전달\n",
    "param_grid = {\n",
    "    'criterion': ['entropy', 'gini'],\n",
    "            'max_depth': [2,4,6,8],\n",
    "            'max_features': ['auto', 'sqrt'],\n",
    "            'min_samples_leaf': [4,6,8,10],\n",
    "            'min_samples_split': [4,6,8,10]}\n",
    "grid_search = GridSearchCV(tree\n",
    "                        , param_grid = param_grid\n",
    "                        , cv = 5 #교차검증시 fold 개수; n번의 교차검증; 데이터들이 돌아가면서 하나씩 검증(validation)에 사용되어 일반화하는 것; 데이터가 많지 않을 때 보통 쓰인다고 함\n",
    "                        , n_jobs = -1)  #-1: 모든 코어 사용\n",
    "\n",
    "grid_search.fit(x_train, y_train)\n",
    "\n",
    "# 최선의 결과 출력\n",
    "print('최적 하이퍼 파라미터 :{0}, 최적 평균 정확도 :{1:.3f}'.format(grid_search.best_params_, grid_search.best_score_))\n",
    "a = grid_search.best_params_\n",
    "keys=list(a.keys())\n",
    "values = list(a.values())\n",
    "\n",
    "dt_clf_best = DecisionTreeClassifier(random_state=52,criterion = values[0], max_depth = values[1],max_features=values[2], min_samples_leaf=values[3], min_samples_split=values[4])\n",
    "dt_clf_best.fit(x_train, y_train)\n",
    "dt_best_pred = dt_clf_best.predict(x_test)\n",
    "dt_best_pred_proba = dt_clf_best.predict_proba(x_test)   \n",
    "\n",
    "print(\"디시전트리 파라미터적용\") \n",
    "get_clf_eval(y_test, dt_best_pred)\n",
    "get_eval_by_threshold(y_test ,dt_best_pred_proba[:,1].reshape(-1,1), thresholds)\n"
   ]
  },
  {
   "cell_type": "code",
   "execution_count": 11,
   "metadata": {},
   "outputs": [
    {
     "name": "stdout",
     "output_type": "stream",
     "text": [
      "디시전트리\n",
      "오차행렬\n",
      "[[3212  531]\n",
      " [  24   56]]\n",
      "정확도: 0.8548, 정밀도 : 0.0954, 재현율:0.7000,F1 스코어:0.1679\n",
      "ROC 스코어: 0.7791, PR score : 0.0731\n",
      "None\n"
     ]
    }
   ],
   "source": [
    "print(\"디시전트리\") \n",
    "print(get_clf_eval(y_test, lda_pred))"
   ]
  },
  {
   "cell_type": "code",
   "execution_count": 12,
   "metadata": {},
   "outputs": [
    {
     "name": "stdout",
     "output_type": "stream",
     "text": [
      "랜덤포레스트\n",
      "오차행렬\n",
      "[[3529  214]\n",
      " [  27   53]]\n",
      "정확도: 0.9370, 정밀도 : 0.1985, 재현율:0.6625,F1 스코어:0.3055\n",
      "ROC 스코어: 0.8027, PR score : 0.1386\n",
      "임곗값: 0.1\n",
      "오차행렬\n",
      "[[2237 1506]\n",
      " [   7   73]]\n",
      "정확도: 0.6042, 정밀도 : 0.0462, 재현율:0.9125,F1 스코어:0.0880\n",
      "ROC 스코어: 0.7551, PR score : 0.0440\n",
      "---------------------------------------------------------\n",
      "임곗값: 0.2\n",
      "오차행렬\n",
      "[[2880  863]\n",
      " [  13   67]]\n",
      "정확도: 0.7709, 정밀도 : 0.0720, 재현율:0.8375,F1 스코어:0.1327\n",
      "ROC 스코어: 0.8035, PR score : 0.0637\n",
      "---------------------------------------------------------\n",
      "임곗값: 0.3\n",
      "오차행렬\n",
      "[[3223  520]\n",
      " [  16   64]]\n",
      "정확도: 0.8598, 정밀도 : 0.1096, 재현율:0.8000,F1 스코어:0.1928\n",
      "ROC 스코어: 0.8305, PR score : 0.0919\n",
      "---------------------------------------------------------\n",
      "임곗값: 0.4\n",
      "오차행렬\n",
      "[[3415  328]\n",
      " [  21   59]]\n",
      "정확도: 0.9087, 정밀도 : 0.1525, 재현율:0.7375,F1 스코어:0.2527\n",
      "ROC 스코어: 0.8249, PR score : 0.1179\n",
      "---------------------------------------------------------\n",
      "임곗값: 0.5\n",
      "오차행렬\n",
      "[[3529  214]\n",
      " [  27   53]]\n",
      "정확도: 0.9370, 정밀도 : 0.1985, 재현율:0.6625,F1 스코어:0.3055\n",
      "ROC 스코어: 0.8027, PR score : 0.1386\n",
      "---------------------------------------------------------\n"
     ]
    }
   ],
   "source": [
    "# 1-3 랜덤포레스트 구현 \n",
    "from sklearn.ensemble import RandomForestClassifier\n",
    "rf_clf = RandomForestClassifier(random_state=52)    \n",
    "\n",
    "rf_clf.fit(x_train, y_train)\n",
    "rf_pred = rf_clf.predict(x_test)\n",
    "rf_pred_proba = rf_clf.predict_proba(x_test)\n",
    "print(\"랜덤포레스트\") \n",
    "get_clf_eval(y_test, rf_pred)\n",
    "get_eval_by_threshold(y_test , rf_pred_proba[:,1].reshape(-1,1), thresholds)\n",
    "\n"
   ]
  },
  {
   "cell_type": "code",
   "execution_count": 13,
   "metadata": {},
   "outputs": [
    {
     "ename": "KeyboardInterrupt",
     "evalue": "",
     "output_type": "error",
     "traceback": [
      "\u001b[1;31m---------------------------------------------------------------------------\u001b[0m",
      "\u001b[1;31mKeyboardInterrupt\u001b[0m                         Traceback (most recent call last)",
      "Cell \u001b[1;32mIn[13], line 16\u001b[0m\n\u001b[0;32m     13\u001b[0m model \u001b[38;5;241m=\u001b[39m RandomForestClassifier(random_state\u001b[38;5;241m=\u001b[39m\u001b[38;5;241m52\u001b[39m)\n\u001b[0;32m     14\u001b[0m grid_search \u001b[38;5;241m=\u001b[39m GridSearchCV(estimator \u001b[38;5;241m=\u001b[39m model, param_grid \u001b[38;5;241m=\u001b[39m grid_search, \n\u001b[0;32m     15\u001b[0m                             cv \u001b[38;5;241m=\u001b[39m \u001b[38;5;241m5\u001b[39m,verbose\u001b[38;5;241m=\u001b[39m\u001b[38;5;241m0\u001b[39m, n_jobs \u001b[38;5;241m=\u001b[39m \u001b[38;5;241m-\u001b[39m\u001b[38;5;241m1\u001b[39m)\n\u001b[1;32m---> 16\u001b[0m \u001b[43mgrid_search\u001b[49m\u001b[38;5;241;43m.\u001b[39;49m\u001b[43mfit\u001b[49m\u001b[43m(\u001b[49m\u001b[43mx_train\u001b[49m\u001b[43m,\u001b[49m\u001b[43my_train\u001b[49m\u001b[43m)\u001b[49m\n\u001b[0;32m     18\u001b[0m \u001b[38;5;66;03m# 최선의 결과 출력\u001b[39;00m\n\u001b[0;32m     19\u001b[0m \u001b[38;5;28mprint\u001b[39m(\u001b[38;5;124m'\u001b[39m\u001b[38;5;124m최적 하이퍼 파라미터 :\u001b[39m\u001b[38;5;132;01m{0}\u001b[39;00m\u001b[38;5;124m, 최적 평균 정확도 :\u001b[39m\u001b[38;5;132;01m{1:.3f}\u001b[39;00m\u001b[38;5;124m'\u001b[39m\u001b[38;5;241m.\u001b[39mformat(grid_search\u001b[38;5;241m.\u001b[39mbest_params_, grid_search\u001b[38;5;241m.\u001b[39mbest_score_))\n",
      "File \u001b[1;32mc:\\Users\\dlsgm\\AppData\\Local\\Programs\\Python\\Python311\\Lib\\site-packages\\sklearn\\base.py:1152\u001b[0m, in \u001b[0;36m_fit_context.<locals>.decorator.<locals>.wrapper\u001b[1;34m(estimator, *args, **kwargs)\u001b[0m\n\u001b[0;32m   1145\u001b[0m     estimator\u001b[38;5;241m.\u001b[39m_validate_params()\n\u001b[0;32m   1147\u001b[0m \u001b[38;5;28;01mwith\u001b[39;00m config_context(\n\u001b[0;32m   1148\u001b[0m     skip_parameter_validation\u001b[38;5;241m=\u001b[39m(\n\u001b[0;32m   1149\u001b[0m         prefer_skip_nested_validation \u001b[38;5;129;01mor\u001b[39;00m global_skip_validation\n\u001b[0;32m   1150\u001b[0m     )\n\u001b[0;32m   1151\u001b[0m ):\n\u001b[1;32m-> 1152\u001b[0m     \u001b[38;5;28;01mreturn\u001b[39;00m \u001b[43mfit_method\u001b[49m\u001b[43m(\u001b[49m\u001b[43mestimator\u001b[49m\u001b[43m,\u001b[49m\u001b[43m \u001b[49m\u001b[38;5;241;43m*\u001b[39;49m\u001b[43margs\u001b[49m\u001b[43m,\u001b[49m\u001b[43m \u001b[49m\u001b[38;5;241;43m*\u001b[39;49m\u001b[38;5;241;43m*\u001b[39;49m\u001b[43mkwargs\u001b[49m\u001b[43m)\u001b[49m\n",
      "File \u001b[1;32mc:\\Users\\dlsgm\\AppData\\Local\\Programs\\Python\\Python311\\Lib\\site-packages\\sklearn\\model_selection\\_search.py:898\u001b[0m, in \u001b[0;36mBaseSearchCV.fit\u001b[1;34m(self, X, y, groups, **fit_params)\u001b[0m\n\u001b[0;32m    892\u001b[0m     results \u001b[38;5;241m=\u001b[39m \u001b[38;5;28mself\u001b[39m\u001b[38;5;241m.\u001b[39m_format_results(\n\u001b[0;32m    893\u001b[0m         all_candidate_params, n_splits, all_out, all_more_results\n\u001b[0;32m    894\u001b[0m     )\n\u001b[0;32m    896\u001b[0m     \u001b[38;5;28;01mreturn\u001b[39;00m results\n\u001b[1;32m--> 898\u001b[0m \u001b[38;5;28;43mself\u001b[39;49m\u001b[38;5;241;43m.\u001b[39;49m\u001b[43m_run_search\u001b[49m\u001b[43m(\u001b[49m\u001b[43mevaluate_candidates\u001b[49m\u001b[43m)\u001b[49m\n\u001b[0;32m    900\u001b[0m \u001b[38;5;66;03m# multimetric is determined here because in the case of a callable\u001b[39;00m\n\u001b[0;32m    901\u001b[0m \u001b[38;5;66;03m# self.scoring the return type is only known after calling\u001b[39;00m\n\u001b[0;32m    902\u001b[0m first_test_score \u001b[38;5;241m=\u001b[39m all_out[\u001b[38;5;241m0\u001b[39m][\u001b[38;5;124m\"\u001b[39m\u001b[38;5;124mtest_scores\u001b[39m\u001b[38;5;124m\"\u001b[39m]\n",
      "File \u001b[1;32mc:\\Users\\dlsgm\\AppData\\Local\\Programs\\Python\\Python311\\Lib\\site-packages\\sklearn\\model_selection\\_search.py:1422\u001b[0m, in \u001b[0;36mGridSearchCV._run_search\u001b[1;34m(self, evaluate_candidates)\u001b[0m\n\u001b[0;32m   1420\u001b[0m \u001b[38;5;28;01mdef\u001b[39;00m \u001b[38;5;21m_run_search\u001b[39m(\u001b[38;5;28mself\u001b[39m, evaluate_candidates):\n\u001b[0;32m   1421\u001b[0m \u001b[38;5;250m    \u001b[39m\u001b[38;5;124;03m\"\"\"Search all candidates in param_grid\"\"\"\u001b[39;00m\n\u001b[1;32m-> 1422\u001b[0m     \u001b[43mevaluate_candidates\u001b[49m\u001b[43m(\u001b[49m\u001b[43mParameterGrid\u001b[49m\u001b[43m(\u001b[49m\u001b[38;5;28;43mself\u001b[39;49m\u001b[38;5;241;43m.\u001b[39;49m\u001b[43mparam_grid\u001b[49m\u001b[43m)\u001b[49m\u001b[43m)\u001b[49m\n",
      "File \u001b[1;32mc:\\Users\\dlsgm\\AppData\\Local\\Programs\\Python\\Python311\\Lib\\site-packages\\sklearn\\model_selection\\_search.py:845\u001b[0m, in \u001b[0;36mBaseSearchCV.fit.<locals>.evaluate_candidates\u001b[1;34m(candidate_params, cv, more_results)\u001b[0m\n\u001b[0;32m    837\u001b[0m \u001b[38;5;28;01mif\u001b[39;00m \u001b[38;5;28mself\u001b[39m\u001b[38;5;241m.\u001b[39mverbose \u001b[38;5;241m>\u001b[39m \u001b[38;5;241m0\u001b[39m:\n\u001b[0;32m    838\u001b[0m     \u001b[38;5;28mprint\u001b[39m(\n\u001b[0;32m    839\u001b[0m         \u001b[38;5;124m\"\u001b[39m\u001b[38;5;124mFitting \u001b[39m\u001b[38;5;132;01m{0}\u001b[39;00m\u001b[38;5;124m folds for each of \u001b[39m\u001b[38;5;132;01m{1}\u001b[39;00m\u001b[38;5;124m candidates,\u001b[39m\u001b[38;5;124m\"\u001b[39m\n\u001b[0;32m    840\u001b[0m         \u001b[38;5;124m\"\u001b[39m\u001b[38;5;124m totalling \u001b[39m\u001b[38;5;132;01m{2}\u001b[39;00m\u001b[38;5;124m fits\u001b[39m\u001b[38;5;124m\"\u001b[39m\u001b[38;5;241m.\u001b[39mformat(\n\u001b[0;32m    841\u001b[0m             n_splits, n_candidates, n_candidates \u001b[38;5;241m*\u001b[39m n_splits\n\u001b[0;32m    842\u001b[0m         )\n\u001b[0;32m    843\u001b[0m     )\n\u001b[1;32m--> 845\u001b[0m out \u001b[38;5;241m=\u001b[39m \u001b[43mparallel\u001b[49m\u001b[43m(\u001b[49m\n\u001b[0;32m    846\u001b[0m \u001b[43m    \u001b[49m\u001b[43mdelayed\u001b[49m\u001b[43m(\u001b[49m\u001b[43m_fit_and_score\u001b[49m\u001b[43m)\u001b[49m\u001b[43m(\u001b[49m\n\u001b[0;32m    847\u001b[0m \u001b[43m        \u001b[49m\u001b[43mclone\u001b[49m\u001b[43m(\u001b[49m\u001b[43mbase_estimator\u001b[49m\u001b[43m)\u001b[49m\u001b[43m,\u001b[49m\n\u001b[0;32m    848\u001b[0m \u001b[43m        \u001b[49m\u001b[43mX\u001b[49m\u001b[43m,\u001b[49m\n\u001b[0;32m    849\u001b[0m \u001b[43m        \u001b[49m\u001b[43my\u001b[49m\u001b[43m,\u001b[49m\n\u001b[0;32m    850\u001b[0m \u001b[43m        \u001b[49m\u001b[43mtrain\u001b[49m\u001b[38;5;241;43m=\u001b[39;49m\u001b[43mtrain\u001b[49m\u001b[43m,\u001b[49m\n\u001b[0;32m    851\u001b[0m \u001b[43m        \u001b[49m\u001b[43mtest\u001b[49m\u001b[38;5;241;43m=\u001b[39;49m\u001b[43mtest\u001b[49m\u001b[43m,\u001b[49m\n\u001b[0;32m    852\u001b[0m \u001b[43m        \u001b[49m\u001b[43mparameters\u001b[49m\u001b[38;5;241;43m=\u001b[39;49m\u001b[43mparameters\u001b[49m\u001b[43m,\u001b[49m\n\u001b[0;32m    853\u001b[0m \u001b[43m        \u001b[49m\u001b[43msplit_progress\u001b[49m\u001b[38;5;241;43m=\u001b[39;49m\u001b[43m(\u001b[49m\u001b[43msplit_idx\u001b[49m\u001b[43m,\u001b[49m\u001b[43m \u001b[49m\u001b[43mn_splits\u001b[49m\u001b[43m)\u001b[49m\u001b[43m,\u001b[49m\n\u001b[0;32m    854\u001b[0m \u001b[43m        \u001b[49m\u001b[43mcandidate_progress\u001b[49m\u001b[38;5;241;43m=\u001b[39;49m\u001b[43m(\u001b[49m\u001b[43mcand_idx\u001b[49m\u001b[43m,\u001b[49m\u001b[43m \u001b[49m\u001b[43mn_candidates\u001b[49m\u001b[43m)\u001b[49m\u001b[43m,\u001b[49m\n\u001b[0;32m    855\u001b[0m \u001b[43m        \u001b[49m\u001b[38;5;241;43m*\u001b[39;49m\u001b[38;5;241;43m*\u001b[39;49m\u001b[43mfit_and_score_kwargs\u001b[49m\u001b[43m,\u001b[49m\n\u001b[0;32m    856\u001b[0m \u001b[43m    \u001b[49m\u001b[43m)\u001b[49m\n\u001b[0;32m    857\u001b[0m \u001b[43m    \u001b[49m\u001b[38;5;28;43;01mfor\u001b[39;49;00m\u001b[43m \u001b[49m\u001b[43m(\u001b[49m\u001b[43mcand_idx\u001b[49m\u001b[43m,\u001b[49m\u001b[43m \u001b[49m\u001b[43mparameters\u001b[49m\u001b[43m)\u001b[49m\u001b[43m,\u001b[49m\u001b[43m \u001b[49m\u001b[43m(\u001b[49m\u001b[43msplit_idx\u001b[49m\u001b[43m,\u001b[49m\u001b[43m \u001b[49m\u001b[43m(\u001b[49m\u001b[43mtrain\u001b[49m\u001b[43m,\u001b[49m\u001b[43m \u001b[49m\u001b[43mtest\u001b[49m\u001b[43m)\u001b[49m\u001b[43m)\u001b[49m\u001b[43m \u001b[49m\u001b[38;5;129;43;01min\u001b[39;49;00m\u001b[43m \u001b[49m\u001b[43mproduct\u001b[49m\u001b[43m(\u001b[49m\n\u001b[0;32m    858\u001b[0m \u001b[43m        \u001b[49m\u001b[38;5;28;43menumerate\u001b[39;49m\u001b[43m(\u001b[49m\u001b[43mcandidate_params\u001b[49m\u001b[43m)\u001b[49m\u001b[43m,\u001b[49m\u001b[43m \u001b[49m\u001b[38;5;28;43menumerate\u001b[39;49m\u001b[43m(\u001b[49m\u001b[43mcv\u001b[49m\u001b[38;5;241;43m.\u001b[39;49m\u001b[43msplit\u001b[49m\u001b[43m(\u001b[49m\u001b[43mX\u001b[49m\u001b[43m,\u001b[49m\u001b[43m \u001b[49m\u001b[43my\u001b[49m\u001b[43m,\u001b[49m\u001b[43m \u001b[49m\u001b[43mgroups\u001b[49m\u001b[43m)\u001b[49m\u001b[43m)\u001b[49m\n\u001b[0;32m    859\u001b[0m \u001b[43m    \u001b[49m\u001b[43m)\u001b[49m\n\u001b[0;32m    860\u001b[0m \u001b[43m\u001b[49m\u001b[43m)\u001b[49m\n\u001b[0;32m    862\u001b[0m \u001b[38;5;28;01mif\u001b[39;00m \u001b[38;5;28mlen\u001b[39m(out) \u001b[38;5;241m<\u001b[39m \u001b[38;5;241m1\u001b[39m:\n\u001b[0;32m    863\u001b[0m     \u001b[38;5;28;01mraise\u001b[39;00m \u001b[38;5;167;01mValueError\u001b[39;00m(\n\u001b[0;32m    864\u001b[0m         \u001b[38;5;124m\"\u001b[39m\u001b[38;5;124mNo fits were performed. \u001b[39m\u001b[38;5;124m\"\u001b[39m\n\u001b[0;32m    865\u001b[0m         \u001b[38;5;124m\"\u001b[39m\u001b[38;5;124mWas the CV iterator empty? \u001b[39m\u001b[38;5;124m\"\u001b[39m\n\u001b[0;32m    866\u001b[0m         \u001b[38;5;124m\"\u001b[39m\u001b[38;5;124mWere there no candidates?\u001b[39m\u001b[38;5;124m\"\u001b[39m\n\u001b[0;32m    867\u001b[0m     )\n",
      "File \u001b[1;32mc:\\Users\\dlsgm\\AppData\\Local\\Programs\\Python\\Python311\\Lib\\site-packages\\sklearn\\utils\\parallel.py:65\u001b[0m, in \u001b[0;36mParallel.__call__\u001b[1;34m(self, iterable)\u001b[0m\n\u001b[0;32m     60\u001b[0m config \u001b[38;5;241m=\u001b[39m get_config()\n\u001b[0;32m     61\u001b[0m iterable_with_config \u001b[38;5;241m=\u001b[39m (\n\u001b[0;32m     62\u001b[0m     (_with_config(delayed_func, config), args, kwargs)\n\u001b[0;32m     63\u001b[0m     \u001b[38;5;28;01mfor\u001b[39;00m delayed_func, args, kwargs \u001b[38;5;129;01min\u001b[39;00m iterable\n\u001b[0;32m     64\u001b[0m )\n\u001b[1;32m---> 65\u001b[0m \u001b[38;5;28;01mreturn\u001b[39;00m \u001b[38;5;28;43msuper\u001b[39;49m\u001b[43m(\u001b[49m\u001b[43m)\u001b[49m\u001b[38;5;241;43m.\u001b[39;49m\u001b[38;5;21;43m__call__\u001b[39;49m\u001b[43m(\u001b[49m\u001b[43miterable_with_config\u001b[49m\u001b[43m)\u001b[49m\n",
      "File \u001b[1;32mc:\\Users\\dlsgm\\AppData\\Local\\Programs\\Python\\Python311\\Lib\\site-packages\\joblib\\parallel.py:1952\u001b[0m, in \u001b[0;36mParallel.__call__\u001b[1;34m(self, iterable)\u001b[0m\n\u001b[0;32m   1946\u001b[0m \u001b[38;5;66;03m# The first item from the output is blank, but it makes the interpreter\u001b[39;00m\n\u001b[0;32m   1947\u001b[0m \u001b[38;5;66;03m# progress until it enters the Try/Except block of the generator and\u001b[39;00m\n\u001b[0;32m   1948\u001b[0m \u001b[38;5;66;03m# reach the first `yield` statement. This starts the aynchronous\u001b[39;00m\n\u001b[0;32m   1949\u001b[0m \u001b[38;5;66;03m# dispatch of the tasks to the workers.\u001b[39;00m\n\u001b[0;32m   1950\u001b[0m \u001b[38;5;28mnext\u001b[39m(output)\n\u001b[1;32m-> 1952\u001b[0m \u001b[38;5;28;01mreturn\u001b[39;00m output \u001b[38;5;28;01mif\u001b[39;00m \u001b[38;5;28mself\u001b[39m\u001b[38;5;241m.\u001b[39mreturn_generator \u001b[38;5;28;01melse\u001b[39;00m \u001b[38;5;28;43mlist\u001b[39;49m\u001b[43m(\u001b[49m\u001b[43moutput\u001b[49m\u001b[43m)\u001b[49m\n",
      "File \u001b[1;32mc:\\Users\\dlsgm\\AppData\\Local\\Programs\\Python\\Python311\\Lib\\site-packages\\joblib\\parallel.py:1595\u001b[0m, in \u001b[0;36mParallel._get_outputs\u001b[1;34m(self, iterator, pre_dispatch)\u001b[0m\n\u001b[0;32m   1592\u001b[0m     \u001b[38;5;28;01myield\u001b[39;00m\n\u001b[0;32m   1594\u001b[0m     \u001b[38;5;28;01mwith\u001b[39;00m \u001b[38;5;28mself\u001b[39m\u001b[38;5;241m.\u001b[39m_backend\u001b[38;5;241m.\u001b[39mretrieval_context():\n\u001b[1;32m-> 1595\u001b[0m         \u001b[38;5;28;01myield from\u001b[39;00m \u001b[38;5;28mself\u001b[39m\u001b[38;5;241m.\u001b[39m_retrieve()\n\u001b[0;32m   1597\u001b[0m \u001b[38;5;28;01mexcept\u001b[39;00m \u001b[38;5;167;01mGeneratorExit\u001b[39;00m:\n\u001b[0;32m   1598\u001b[0m     \u001b[38;5;66;03m# The generator has been garbage collected before being fully\u001b[39;00m\n\u001b[0;32m   1599\u001b[0m     \u001b[38;5;66;03m# consumed. This aborts the remaining tasks if possible and warn\u001b[39;00m\n\u001b[0;32m   1600\u001b[0m     \u001b[38;5;66;03m# the user if necessary.\u001b[39;00m\n\u001b[0;32m   1601\u001b[0m     \u001b[38;5;28mself\u001b[39m\u001b[38;5;241m.\u001b[39m_exception \u001b[38;5;241m=\u001b[39m \u001b[38;5;28;01mTrue\u001b[39;00m\n",
      "File \u001b[1;32mc:\\Users\\dlsgm\\AppData\\Local\\Programs\\Python\\Python311\\Lib\\site-packages\\joblib\\parallel.py:1707\u001b[0m, in \u001b[0;36mParallel._retrieve\u001b[1;34m(self)\u001b[0m\n\u001b[0;32m   1702\u001b[0m \u001b[38;5;66;03m# If the next job is not ready for retrieval yet, we just wait for\u001b[39;00m\n\u001b[0;32m   1703\u001b[0m \u001b[38;5;66;03m# async callbacks to progress.\u001b[39;00m\n\u001b[0;32m   1704\u001b[0m \u001b[38;5;28;01mif\u001b[39;00m ((\u001b[38;5;28mlen\u001b[39m(\u001b[38;5;28mself\u001b[39m\u001b[38;5;241m.\u001b[39m_jobs) \u001b[38;5;241m==\u001b[39m \u001b[38;5;241m0\u001b[39m) \u001b[38;5;129;01mor\u001b[39;00m\n\u001b[0;32m   1705\u001b[0m     (\u001b[38;5;28mself\u001b[39m\u001b[38;5;241m.\u001b[39m_jobs[\u001b[38;5;241m0\u001b[39m]\u001b[38;5;241m.\u001b[39mget_status(\n\u001b[0;32m   1706\u001b[0m         timeout\u001b[38;5;241m=\u001b[39m\u001b[38;5;28mself\u001b[39m\u001b[38;5;241m.\u001b[39mtimeout) \u001b[38;5;241m==\u001b[39m TASK_PENDING)):\n\u001b[1;32m-> 1707\u001b[0m     time\u001b[38;5;241m.\u001b[39msleep(\u001b[38;5;241m0.01\u001b[39m)\n\u001b[0;32m   1708\u001b[0m     \u001b[38;5;28;01mcontinue\u001b[39;00m\n\u001b[0;32m   1710\u001b[0m \u001b[38;5;66;03m# We need to be careful: the job list can be filling up as\u001b[39;00m\n\u001b[0;32m   1711\u001b[0m \u001b[38;5;66;03m# we empty it and Python list are not thread-safe by\u001b[39;00m\n\u001b[0;32m   1712\u001b[0m \u001b[38;5;66;03m# default hence the use of the lock\u001b[39;00m\n",
      "\u001b[1;31mKeyboardInterrupt\u001b[0m: "
     ]
    }
   ],
   "source": [
    "# 하이퍼파라미터 Grid-Search\n",
    "from sklearn.model_selection import GridSearchCV\n",
    "\n",
    "    # 탐색 범위 정의\n",
    "\n",
    "grid_search = {'criterion': ['entropy', 'gini'],\n",
    "            'max_depth': [2,4,6,8],\n",
    "            'max_features': ['auto', 'sqrt'],\n",
    "            'min_samples_leaf': [4,6,8,10],\n",
    "            'min_samples_split': [4,6,8,10],\n",
    "            'n_estimators': [20,40,60,80,100]}\n",
    "\n",
    "model = RandomForestClassifier(random_state=52)\n",
    "grid_search = GridSearchCV(estimator = model, param_grid = grid_search, \n",
    "                            cv = 5,verbose=0, n_jobs = -1)\n",
    "grid_search.fit(x_train,y_train)\n",
    "\n",
    "# 최선의 결과 출력\n",
    "print('최적 하이퍼 파라미터 :{0}, 최적 평균 정확도 :{1:.3f}'.format(grid_search.best_params_, grid_search.best_score_))\n",
    "a = grid_search.best_params_\n",
    "keys=list(a.keys())\n",
    "values = list(a.values())\n",
    "\n",
    "rf_clf_best = RandomForestClassifier(random_state=52,criterion = values[0], max_depth = values[1],max_features=values[2], min_samples_leaf=values[3],  min_samples_split=values[4],n_estimators=values[5])\n",
    "rf_clf_best.fit(x_train, y_train)\n",
    "rf_best_pred = rf_clf_best.predict(x_test)\n",
    "rf_best_pred_proba = rf_clf_best.predict_proba(x_test)   \n",
    "\n",
    "print(\"랜덤포레스트 파라미터적용\") \n",
    "get_clf_eval(y_test, rf_best_pred)\n",
    "get_eval_by_threshold(y_test ,rf_best_pred_proba[:,1].reshape(-1,1), thresholds)"
   ]
  },
  {
   "cell_type": "code",
   "execution_count": null,
   "metadata": {},
   "outputs": [],
   "source": [
    "# 1-4 로지스틱회귀\n",
    "from sklearn.linear_model import LogisticRegression\n",
    "lr_clf = LogisticRegression()\n",
    "\n",
    "lr_clf.fit(x_train, y_train)\n",
    "lr_pred = lr_clf.predict(x_test)\n",
    "lr_pred_proba = lr_clf.predict_proba(x_test)\n",
    "print(\"로지스틱회귀\") \n",
    "get_clf_eval(y_test, lr_pred)\n",
    "get_eval_by_threshold(y_test , lr_pred_proba[:,1].reshape(-1,1), thresholds)\n",
    "    "
   ]
  },
  {
   "cell_type": "code",
   "execution_count": null,
   "metadata": {},
   "outputs": [],
   "source": [
    "#로지스틱 회귀 최적 하이퍼 파라미터\n",
    "from sklearn.model_selection import GridSearchCV\n",
    "\n",
    "\n",
    "params = {'penalty': ['l2','l1','elasticnet','None'],\n",
    "        'C':[0.01,0.1,1,3,5,10]}\n",
    "\n",
    "grid_search = GridSearchCV(lr_clf, param_grid=params, scoring='accuracy', cv=5)\n",
    "grid_search.fit(x_train,y_train)\n",
    "print('최적 하이퍼 파라미어:{0}, 최적 평균 정확도:{1:.3f}'.format(grid_search.best_params_, grid_search.best_score_))\n",
    "\n",
    "a = grid_search.best_params_\n",
    "keys=list(a.keys())\n",
    "values = list(a.values())\n",
    "\n",
    "lr_clf_best = LogisticRegression(penalty= values[1], C=values[0])\n",
    "lr_clf_best.fit(x_train, y_train)\n",
    "lr_best_pred = lr_clf_best.predict(x_test)\n",
    "lr_best_pred_proba = lr_clf_best.predict_proba(x_test)   \n",
    "\n",
    "print(\"로지스틱회귀 파라미터적용\") \n",
    "get_clf_eval(y_test, lr_best_pred)\n",
    "get_eval_by_threshold(y_test ,lr_best_pred_proba[:,1].reshape(-1,1), thresholds)\n"
   ]
  },
  {
   "cell_type": "code",
   "execution_count": null,
   "metadata": {},
   "outputs": [],
   "source": [
    "from xgboost import XGBClassifier\n",
    "\n",
    "xgb = XGBClassifier(random_state=17,\n",
    "                    n_estimators=90,\n",
    "                    max_depth=5,\n",
    "                    learning_rate=0.03,\n",
    "                    reg_lambda=2,\n",
    "                    reg_alpha=0.02,\n",
    "                    min_split_loss=2\n",
    "                    )\n",
    "xgb.fit(x_train, y_train)\n",
    "xgb_pred = xgb.predict(x_test)\n",
    "xgb_pred_proba = xgb.predict_proba(x_test)\n",
    "\n",
    "print(\"xgboost 파라미터적용\") \n",
    "get_clf_eval(y_test, xgb_pred)\n",
    "get_eval_by_threshold(y_test ,xgb_pred_proba[:,1].reshape(-1,1), thresholds)"
   ]
  }
 ],
 "metadata": {
  "kernelspec": {
   "display_name": "Python 3",
   "language": "python",
   "name": "python3"
  },
  "language_info": {
   "codemirror_mode": {
    "name": "ipython",
    "version": 3
   },
   "file_extension": ".py",
   "mimetype": "text/x-python",
   "name": "python",
   "nbconvert_exporter": "python",
   "pygments_lexer": "ipython3",
   "version": "3.11.6"
  }
 },
 "nbformat": 4,
 "nbformat_minor": 2
}
