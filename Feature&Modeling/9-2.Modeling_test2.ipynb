{
 "cells": [
  {
   "cell_type": "code",
   "execution_count": null,
   "metadata": {},
   "outputs": [],
   "source": [
    "# 필요 라이브러리 import \n",
    "import pandas as pd\n",
    "import numpy as np\n",
    "from sklearn.preprocessing import MinMaxScaler\n",
    "import matplotlib.pyplot as plt\n",
    "%matplotlib inline\n",
    "import warnings\n",
    "import warnings\n",
    "warnings.filterwarnings(action='ignore')\n",
    "\n",
    "from imblearn.under_sampling import RandomUnderSampler\n",
    "from imblearn.over_sampling import RandomOverSampler\n",
    "from imblearn.over_sampling import SMOTE\n",
    "\n",
    "from sklearn.datasets import make_classification\n",
    "from collections import Counter\n",
    "\n",
    "from matplotlib import pyplot as plt\n",
    "import seaborn as sns"
   ]
  },
  {
   "cell_type": "code",
   "execution_count": null,
   "metadata": {},
   "outputs": [],
   "source": [
    "train = pd.read_csv(\"../data/8-1 train(std).csv\",index_col=0)\n",
    "test1 = pd.read_csv(\"../data/8-1 test1(std).csv\",index_col=0)\n",
    "test2 = pd.read_csv(\"../data/8-1 test2(std).csv\",index_col=0)\n",
    "\n",
    "print(train['label'].value_counts())\n",
    "print(test1['label'].value_counts())\n",
    "print(test2['label'].value_counts())"
   ]
  },
  {
   "cell_type": "markdown",
   "metadata": {},
   "source": [
    "데이터분할"
   ]
  },
  {
   "cell_type": "code",
   "execution_count": null,
   "metadata": {},
   "outputs": [],
   "source": [
    "x_train = train.drop(\"label\",axis=1)\n",
    "y_train = train[\"label\"]\n",
    "x_test =test2.drop(\"label\",axis=1)\n",
    "y_test = test2[\"label\"]"
   ]
  },
  {
   "cell_type": "markdown",
   "metadata": {},
   "source": [
    "오버샘플링 SMOTE"
   ]
  },
  {
   "cell_type": "code",
   "execution_count": null,
   "metadata": {},
   "outputs": [],
   "source": [
    "x_train, y_train = SMOTE(random_state=4).fit_resample(x_train,y_train)\n",
    "print(x_train.shape)\n",
    "y_train.value_counts()"
   ]
  },
  {
   "cell_type": "markdown",
   "metadata": {},
   "source": [
    "modeling"
   ]
  },
  {
   "cell_type": "code",
   "execution_count": null,
   "metadata": {},
   "outputs": [],
   "source": [
    "# 성능확인 코드\n",
    "from sklearn.model_selection import train_test_split\n",
    "from sklearn.metrics import confusion_matrix, accuracy_score, precision_score, recall_score\n",
    "from sklearn.metrics import f1_score, roc_auc_score, average_precision_score\n",
    "\n",
    "\n",
    "import warnings\n",
    "\n",
    "def get_clf_eval(MDA_y_test, pred):\n",
    "    confusion = confusion_matrix(MDA_y_test, pred)\n",
    "    accuracy = accuracy_score(MDA_y_test, pred)\n",
    "    precision = precision_score(MDA_y_test, pred)\n",
    "    recall = recall_score(MDA_y_test, pred)\n",
    "    roc_score = roc_auc_score(MDA_y_test, pred)\n",
    "    pr_score = average_precision_score(MDA_y_test, pred)\n",
    "    f1 = f1_score(MDA_y_test, pred)\n",
    "    print('오차행렬')\n",
    "    print(confusion)\n",
    "    print('정확도: {0:.4f}, 정밀도 : {1:.4f}, 재현율:{2:.4f},F1 스코어:{3:.4f}'.format(accuracy, precision, recall, f1, roc_score))\n",
    "    print('ROC 스코어: {0:.4f}, PR score : {1:.4f}'.format(roc_score, pr_score))"
   ]
  },
  {
   "cell_type": "code",
   "execution_count": null,
   "metadata": {},
   "outputs": [],
   "source": [
    "# 임계값에 따른 오차행렬및 스코어 -------->#임계값 최적 : 재현율기준(0.1)/f1기준(0.3)\n",
    "from sklearn.preprocessing import Binarizer\n",
    "thresholds = [0.1,0.2,0.3,0.4,0.5]\n",
    "\n",
    "def get_eval_by_threshold(MDA_y_test, pred_proba_c1, thresholds):\n",
    "    for custom_threshold in thresholds:\n",
    "        binarizer = Binarizer(threshold=custom_threshold).fit(pred_proba_c1)\n",
    "        custom_predict = binarizer.transform(pred_proba_c1)\n",
    "        print(\"임곗값:\", custom_threshold)\n",
    "        get_clf_eval(MDA_y_test, custom_predict)\n",
    "        print(\"---------------------------------------------------------\")\n",
    "\n"
   ]
  },
  {
   "cell_type": "code",
   "execution_count": null,
   "metadata": {},
   "outputs": [],
   "source": [
    "# Roc Auc 그래프 값 확인 코드\n",
    "from sklearn.metrics import roc_curve\n",
    "from sklearn.metrics import roc_auc_score\n",
    "def roc_curve_plot(MDA_y_test, pred_proba_c1):\n",
    "    fprs, tprs, thresholds = roc_curve(MDA_y_test, pred_proba_c1)\n",
    "    \n",
    "    plt.plot(fprs, tprs, label='ROC')\n",
    "    plt.plot([0,1],[0,1], 'k--', label = 'Random')\n",
    "    \n",
    "    start, end= plt.xlim()\n",
    "    plt.xticks(np.round(np.arange(start, end, 0.1),2))\n",
    "    plt.xlim(0,1); plt.ylim(0,1)\n",
    "    plt.xlabel('FPR(1-Sensitivity)'); plt.ylabel('TPR(Recall)')\n",
    "    plt.legend()\n",
    "    plt.show()"
   ]
  },
  {
   "cell_type": "markdown",
   "metadata": {},
   "source": [
    "LDA"
   ]
  },
  {
   "cell_type": "code",
   "execution_count": null,
   "metadata": {},
   "outputs": [],
   "source": [
    "# 1-1 LDA \n",
    "from sklearn.discriminant_analysis import LinearDiscriminantAnalysis\n",
    "lda_clf = LinearDiscriminantAnalysis()\n",
    "\n",
    "lda_clf.fit(x_train, y_train)\n",
    "lda_pred = lda_clf.predict(x_test)\n",
    "lda_pred_proba = lda_clf.predict_proba(x_test)\n",
    "print(\"---------------------------------------------------------\") \n",
    "get_clf_eval(y_test, lda_pred)\n",
    "get_eval_by_threshold(y_test , lda_pred_proba[:,1].reshape(-1,1), thresholds)\n",
    "    "
   ]
  },
  {
   "cell_type": "markdown",
   "metadata": {},
   "source": [
    "Dicisiontree"
   ]
  },
  {
   "cell_type": "code",
   "execution_count": null,
   "metadata": {},
   "outputs": [],
   "source": [
    "# 1-2 디시전트리 \n",
    "from sklearn.tree import DecisionTreeClassifier \n",
    "dt_clf = DecisionTreeClassifier(random_state=52)\n",
    "\n",
    "dt_clf.fit(x_train, y_train)\n",
    "dt_pred = dt_clf.predict(x_test)\n",
    "dt_pred_proba = dt_clf.predict_proba(x_test)   \n",
    "\n",
    "get_clf_eval(y_test, dt_pred)\n",
    "get_eval_by_threshold(y_test , dt_pred_proba[:,1].reshape(-1,1), thresholds)\n",
    "    \n"
   ]
  },
  {
   "cell_type": "code",
   "execution_count": null,
   "metadata": {},
   "outputs": [],
   "source": [
    "from sklearn.tree import DecisionTreeClassifier \n",
    "dt_clf = DecisionTreeClassifier(random_state=52)\n",
    "from sklearn.model_selection import GridSearchCV\n",
    "tree = DecisionTreeClassifier(random_state=52)\n",
    "\n",
    "# key: 하이퍼파라미터 명; value: [후보값들] 을 리스트로 전달\n",
    "param_grid = {\n",
    "    'criterion': ['entropy', 'gini'],\n",
    "            'max_depth': [2,4,6,8],\n",
    "            'max_features': ['auto', 'sqrt'],\n",
    "            'min_samples_leaf': [4,6,8,10],\n",
    "            'min_samples_split': [4,6,8,10]}\n",
    "grid_search = GridSearchCV(tree\n",
    "                        , param_grid = param_grid\n",
    "                        , cv = 5 #교차검증시 fold 개수; n번의 교차검증; 데이터들이 돌아가면서 하나씩 검증(validation)에 사용되어 일반화하는 것; 데이터가 많지 않을 때 보통 쓰인다고 함\n",
    "                        , n_jobs = -1)  #-1: 모든 코어 사용\n",
    "\n",
    "grid_search.fit(x_train, y_train)\n",
    "\n",
    "# 최선의 결과 출력\n",
    "print('최적 하이퍼 파라미터 :{0}, 최적 평균 정확도 :{1:.3f}'.format(grid_search.best_params_, grid_search.best_score_))\n",
    "a = grid_search.best_params_\n",
    "keys=list(a.keys())\n",
    "values = list(a.values())\n",
    "\n",
    "dt_clf_best = DecisionTreeClassifier(random_state=52,criterion = values[0], max_depth = values[1],max_features=values[2], min_samples_leaf=values[3], min_samples_split=values[4])\n",
    "dt_clf_best.fit(x_train, y_train)\n",
    "dt_best_pred = dt_clf_best.predict(x_test)\n",
    "dt_best_pred_proba = dt_clf_best.predict_proba(x_test)   \n",
    "\n",
    "print(\"디시전트리 파라미터적용\") \n",
    "get_clf_eval(y_test, dt_best_pred)\n",
    "get_eval_by_threshold(y_test ,dt_best_pred_proba[:,1].reshape(-1,1), thresholds)\n"
   ]
  },
  {
   "cell_type": "code",
   "execution_count": null,
   "metadata": {},
   "outputs": [],
   "source": [
    "print(\"디시전트리\") \n",
    "print(get_clf_eval(y_test, lda_pred))"
   ]
  },
  {
   "cell_type": "markdown",
   "metadata": {},
   "source": [
    "RF"
   ]
  },
  {
   "cell_type": "code",
   "execution_count": null,
   "metadata": {},
   "outputs": [],
   "source": [
    "# 1-3 랜덤포레스트 구현 \n",
    "from sklearn.ensemble import RandomForestClassifier\n",
    "rf_clf = RandomForestClassifier(random_state=52)    \n",
    "\n",
    "rf_clf.fit(x_train, y_train)\n",
    "rf_pred = rf_clf.predict(x_test)\n",
    "rf_pred_proba = rf_clf.predict_proba(x_test)\n",
    "print(\"랜덤포레스트\") \n",
    "get_clf_eval(y_test, rf_pred)\n",
    "get_eval_by_threshold(y_test , rf_pred_proba[:,1].reshape(-1,1), thresholds)\n",
    "\n"
   ]
  },
  {
   "cell_type": "code",
   "execution_count": null,
   "metadata": {},
   "outputs": [],
   "source": [
    "# 하이퍼파라미터 Grid-Search\n",
    "from sklearn.model_selection import GridSearchCV\n",
    "\n",
    "    # 탐색 범위 정의\n",
    "\n",
    "grid_search = {'criterion': ['entropy', 'gini'],\n",
    "            'max_depth': [2,4,6,8],\n",
    "            'max_features': ['auto', 'sqrt'],\n",
    "            'min_samples_leaf': [4,6,8,10],\n",
    "            'min_samples_split': [4,6,8,10],\n",
    "            'n_estimators': [20,40,60,80,100]}\n",
    "\n",
    "model = RandomForestClassifier(random_state=52)\n",
    "grid_search = GridSearchCV(estimator = model, param_grid = grid_search, \n",
    "                            cv = 5,verbose=0, n_jobs = -1)\n",
    "grid_search.fit(x_train,y_train)\n",
    "\n",
    "# 최선의 결과 출력\n",
    "print('최적 하이퍼 파라미터 :{0}, 최적 평균 정확도 :{1:.3f}'.format(grid_search.best_params_, grid_search.best_score_))\n",
    "a = grid_search.best_params_\n",
    "keys=list(a.keys())\n",
    "values = list(a.values())\n",
    "\n",
    "rf_clf_best = RandomForestClassifier(random_state=52,criterion = values[0], max_depth = values[1],max_features=values[2], min_samples_leaf=values[3],  min_samples_split=values[4],n_estimators=values[5])\n",
    "rf_clf_best.fit(x_train, y_train)\n",
    "rf_best_pred = rf_clf_best.predict(x_test)\n",
    "rf_best_pred_proba = rf_clf_best.predict_proba(x_test)   \n",
    "\n",
    "print(\"랜덤포레스트 파라미터적용\") \n",
    "get_clf_eval(y_test, rf_best_pred)\n",
    "get_eval_by_threshold(y_test ,rf_best_pred_proba[:,1].reshape(-1,1), thresholds)"
   ]
  },
  {
   "cell_type": "markdown",
   "metadata": {},
   "source": [
    "Lg"
   ]
  },
  {
   "cell_type": "code",
   "execution_count": null,
   "metadata": {},
   "outputs": [],
   "source": [
    "# 1-4 로지스틱회귀\n",
    "from sklearn.linear_model import LogisticRegression\n",
    "lr_clf = LogisticRegression()\n",
    "\n",
    "lr_clf.fit(x_train, y_train)\n",
    "lr_pred = lr_clf.predict(x_test)\n",
    "lr_pred_proba = lr_clf.predict_proba(x_test)\n",
    "print(\"로지스틱회귀\") \n",
    "get_clf_eval(y_test, lr_pred)\n",
    "get_eval_by_threshold(y_test , lr_pred_proba[:,1].reshape(-1,1), thresholds)\n",
    "    "
   ]
  },
  {
   "cell_type": "code",
   "execution_count": null,
   "metadata": {},
   "outputs": [],
   "source": [
    "#로지스틱 회귀 최적 하이퍼 파라미터\n",
    "from sklearn.model_selection import GridSearchCV\n",
    "\n",
    "\n",
    "params = {'penalty': ['l2','l1','elasticnet','None'],\n",
    "        'C':[0.01,0.1,1,3,5,10]}\n",
    "\n",
    "grid_search = GridSearchCV(lr_clf, param_grid=params, scoring='accuracy', cv=5)\n",
    "grid_search.fit(x_train,y_train)\n",
    "print('최적 하이퍼 파라미어:{0}, 최적 평균 정확도:{1:.3f}'.format(grid_search.best_params_, grid_search.best_score_))\n",
    "\n",
    "a = grid_search.best_params_\n",
    "keys=list(a.keys())\n",
    "values = list(a.values())\n",
    "\n",
    "lr_clf_best = LogisticRegression(penalty= values[1], C=values[0])\n",
    "lr_clf_best.fit(x_train, y_train)\n",
    "lr_best_pred = lr_clf_best.predict(x_test)\n",
    "lr_best_pred_proba = lr_clf_best.predict_proba(x_test)   \n",
    "\n",
    "print(\"로지스틱회귀 파라미터적용\") \n",
    "get_clf_eval(y_test, lr_best_pred)\n",
    "get_eval_by_threshold(y_test ,lr_best_pred_proba[:,1].reshape(-1,1), thresholds)\n"
   ]
  },
  {
   "cell_type": "markdown",
   "metadata": {},
   "source": [
    "xgb"
   ]
  },
  {
   "cell_type": "code",
   "execution_count": null,
   "metadata": {},
   "outputs": [],
   "source": [
    "from xgboost import XGBClassifier\n",
    "\n",
    "xgb = XGBClassifier(random_state=17,\n",
    "                    n_estimators=90,\n",
    "                    max_depth=5,\n",
    "                    learning_rate=0.03,\n",
    "                    reg_lambda=2,\n",
    "                    reg_alpha=0.02,\n",
    "                    min_split_loss=2\n",
    "                    )\n",
    "xgb.fit(x_train, y_train)\n",
    "xgb_pred = xgb.predict(x_test)\n",
    "xgb_pred_proba = xgb.predict_proba(x_test)\n",
    "\n",
    "print(\"xgboost 파라미터적용\") \n",
    "get_clf_eval(y_test, xgb_pred)\n",
    "get_eval_by_threshold(y_test ,xgb_pred_proba[:,1].reshape(-1,1), thresholds)"
   ]
  }
 ],
 "metadata": {
  "kernelspec": {
   "display_name": "Python 3",
   "language": "python",
   "name": "python3"
  },
  "language_info": {
   "codemirror_mode": {
    "name": "ipython",
    "version": 3
   },
   "file_extension": ".py",
   "mimetype": "text/x-python",
   "name": "python",
   "nbconvert_exporter": "python",
   "pygments_lexer": "ipython3",
   "version": "3.11.6"
  }
 },
 "nbformat": 4,
 "nbformat_minor": 2
}
